{
  "cells": [
    {
      "cell_type": "markdown",
      "metadata": {
        "id": "view-in-github",
        "colab_type": "text"
      },
      "source": [
        "<a href=\"https://colab.research.google.com/github/Nkeeydata/Used_Car_Prediction1/blob/main/UsedCarPrediction1.ipynb\" target=\"_parent\"><img src=\"https://colab.research.google.com/assets/colab-badge.svg\" alt=\"Open In Colab\"/></a>"
      ]
    },
    {
      "cell_type": "markdown",
      "id": "ef859acd-82bc-4be2-b742-c96b814854d9",
      "metadata": {
        "id": "ef859acd-82bc-4be2-b742-c96b814854d9"
      },
      "source": [
        "## DSN HACKANTHON CHALLENGE FOR AI BOOTCAMP 2025"
      ]
    },
    {
      "cell_type": "markdown",
      "id": "59046daf-7dd6-4703-88a5-47a2f835592b",
      "metadata": {
        "id": "59046daf-7dd6-4703-88a5-47a2f835592b"
      },
      "source": [
        "### Used Car Prediction"
      ]
    },
    {
      "cell_type": "markdown",
      "id": "2e4197ab-13f7-4f14-931b-d8dcc3ecbe57",
      "metadata": {
        "id": "2e4197ab-13f7-4f14-931b-d8dcc3ecbe57"
      },
      "source": [
        "### INTRODUCTION\n",
        "\n",
        "Seeing that the prices of new branded cars are on the high side due to changes in my country's economy, I decided to go for fairly used cars. So this project is to build a model that could be used to predict the prices of used cars to enable know the features that affects prices of cars before micro shopping. The datasets was gotten and downloaded from ```kaggle```, and it comprises of the ```train datasets```, the ```test datasets```, and the ```submission datasets``` which will act as our format for the final submission."
      ]
    },
    {
      "cell_type": "markdown",
      "id": "07fad359-2f34-472f-b762-182e01521c1b",
      "metadata": {
        "id": "07fad359-2f34-472f-b762-182e01521c1b"
      },
      "source": [
        "### COLUMN DESCRIPTION"
      ]
    },
    {
      "cell_type": "markdown",
      "id": "9a338606-542d-44f0-88e2-ccad29456bec",
      "metadata": {
        "id": "9a338606-542d-44f0-88e2-ccad29456bec"
      },
      "source": [
        "```Transmission``` refers to whether your car has a manual or automatic gear.\n",
        "\n",
        "```Accident``` refers to whether the car has collided with another vehicle or something else. Previous accidents can significantly impact a car's value, even if repairs were done well.\n",
        "\n",
        "```Brand``` refers to the make of the car. That is, the manufacturer's or company name. Some brands are known for reliability and longevity, which helps them maintain higher resale values. For example, Toyota\n",
        "\n",
        "```model_year``` refers to the year the car was produced. The price of a car diminishes with time and its usage. Aspects include car models, variants, supply and demand, and price\n",
        "\n",
        "```Mileage``` is the distance travelled by the car since produced. Usually cars with higher mileage will have a reduced value on the basis that they have been used more and likely to experience wear and.\n",
        "\n",
        "```Model``` is the name of a car product or a line of cars. Example, camry\n",
        "\n",
        "```Fuel_type``` is responsible for the fuel rate consumption of the car. it is a type of engine\n",
        "\n",
        "```engine``` is the machine that powers the car, and it can be grouped according to ```fuel_type```"
      ]
    },
    {
      "cell_type": "markdown",
      "id": "6af32744-6b61-4346-8fbd-3f5bdd45c065",
      "metadata": {
        "id": "6af32744-6b61-4346-8fbd-3f5bdd45c065"
      },
      "source": [
        "### IMPORTATION OF LIBRARIES"
      ]
    },
    {
      "cell_type": "code",
      "execution_count": null,
      "id": "75e26b24-fcf7-4872-875d-8e56d6c655b4",
      "metadata": {
        "id": "75e26b24-fcf7-4872-875d-8e56d6c655b4"
      },
      "outputs": [],
      "source": [
        "import pandas as pd\n",
        "import numpy as np\n",
        "\n",
        "# visualizations\n",
        "\n",
        "import seaborn as sns\n",
        "import matplotlib.pyplot as plt\n",
        "\n",
        "# machine learning\n",
        "from sklearn.model_selection import train_test_split\n",
        "from xgboost import XGBRegressor\n",
        "from sklearn.metrics import mean_squared_error, classification_report, f1_score\n",
        "from sklearn.preprocessing import LabelEncoder, OneHotEncoder, StandardScaler\n",
        "from sklearn.model_selection import KFold, GridSearchCV\n",
        "from sklearn.metrics import mean_squared_error\n",
        "from sklearn.linear_model import LinearRegression, Lasso, Ridge\n",
        "from sklearn.pipeline import make_pipeline\n",
        "from sklearn.compose import ColumnTransformer"
      ]
    },
    {
      "cell_type": "markdown",
      "id": "bd6fa537-9ac0-4a41-b250-69ace6268d28",
      "metadata": {
        "id": "bd6fa537-9ac0-4a41-b250-69ace6268d28"
      },
      "source": [
        "### LOADING OF DATASETS"
      ]
    },
    {
      "cell_type": "code",
      "execution_count": null,
      "id": "8a2f34cc-1a59-4b2c-a690-efda0802dcdd",
      "metadata": {
        "id": "8a2f34cc-1a59-4b2c-a690-efda0802dcdd"
      },
      "outputs": [],
      "source": [
        "df_r = pd.read_csv('train12.csv') # training datasets\n",
        "df_t = pd.read_csv('test12.csv') #testing datasets\n",
        "df_s = pd.read_csv('sample_submission12.csv') #sample submission datasets"
      ]
    },
    {
      "cell_type": "markdown",
      "id": "ba52b2e8-ffbb-4c27-b6d1-93e9dbc8344c",
      "metadata": {
        "id": "ba52b2e8-ffbb-4c27-b6d1-93e9dbc8344c"
      },
      "source": [
        "### DUPLICATING DATASETS\n"
      ]
    },
    {
      "cell_type": "code",
      "execution_count": null,
      "id": "cf0f3f57-2643-4617-b039-74c9a9c3a0ae",
      "metadata": {
        "id": "cf0f3f57-2643-4617-b039-74c9a9c3a0ae"
      },
      "outputs": [],
      "source": [
        "dfr = df_r.copy()\n",
        "dft = df_t.copy()"
      ]
    },
    {
      "cell_type": "markdown",
      "id": "da7f2780-6168-4ac9-a0a5-1aeaea99ee7b",
      "metadata": {
        "id": "da7f2780-6168-4ac9-a0a5-1aeaea99ee7b"
      },
      "source": [
        "### DATA EXPLORATION"
      ]
    },
    {
      "cell_type": "code",
      "execution_count": null,
      "id": "5e1c163f-90fe-4ad5-8ffd-170c8614228e",
      "metadata": {
        "id": "5e1c163f-90fe-4ad5-8ffd-170c8614228e",
        "outputId": "4e1891ef-6328-4f4b-cd80-e86a946052cf"
      },
      "outputs": [
        {
          "data": {
            "text/html": [
              "<div>\n",
              "<style scoped>\n",
              "    .dataframe tbody tr th:only-of-type {\n",
              "        vertical-align: middle;\n",
              "    }\n",
              "\n",
              "    .dataframe tbody tr th {\n",
              "        vertical-align: top;\n",
              "    }\n",
              "\n",
              "    .dataframe thead th {\n",
              "        text-align: right;\n",
              "    }\n",
              "</style>\n",
              "<table border=\"1\" class=\"dataframe\">\n",
              "  <thead>\n",
              "    <tr style=\"text-align: right;\">\n",
              "      <th></th>\n",
              "      <th>id</th>\n",
              "      <th>brand</th>\n",
              "      <th>model</th>\n",
              "      <th>model_year</th>\n",
              "      <th>milage</th>\n",
              "      <th>fuel_type</th>\n",
              "      <th>engine</th>\n",
              "      <th>transmission</th>\n",
              "      <th>ext_col</th>\n",
              "      <th>int_col</th>\n",
              "      <th>accident</th>\n",
              "      <th>clean_title</th>\n",
              "      <th>price</th>\n",
              "    </tr>\n",
              "  </thead>\n",
              "  <tbody>\n",
              "    <tr>\n",
              "      <th>0</th>\n",
              "      <td>0</td>\n",
              "      <td>MINI</td>\n",
              "      <td>Cooper S Base</td>\n",
              "      <td>2007</td>\n",
              "      <td>213000</td>\n",
              "      <td>Gasoline</td>\n",
              "      <td>172.0HP 1.6L 4 Cylinder Engine Gasoline Fuel</td>\n",
              "      <td>A/T</td>\n",
              "      <td>Yellow</td>\n",
              "      <td>Gray</td>\n",
              "      <td>None reported</td>\n",
              "      <td>Yes</td>\n",
              "      <td>4200</td>\n",
              "    </tr>\n",
              "    <tr>\n",
              "      <th>1</th>\n",
              "      <td>1</td>\n",
              "      <td>Lincoln</td>\n",
              "      <td>LS V8</td>\n",
              "      <td>2002</td>\n",
              "      <td>143250</td>\n",
              "      <td>Gasoline</td>\n",
              "      <td>252.0HP 3.9L 8 Cylinder Engine Gasoline Fuel</td>\n",
              "      <td>A/T</td>\n",
              "      <td>Silver</td>\n",
              "      <td>Beige</td>\n",
              "      <td>At least 1 accident or damage reported</td>\n",
              "      <td>Yes</td>\n",
              "      <td>4999</td>\n",
              "    </tr>\n",
              "    <tr>\n",
              "      <th>2</th>\n",
              "      <td>2</td>\n",
              "      <td>Chevrolet</td>\n",
              "      <td>Silverado 2500 LT</td>\n",
              "      <td>2002</td>\n",
              "      <td>136731</td>\n",
              "      <td>E85 Flex Fuel</td>\n",
              "      <td>320.0HP 5.3L 8 Cylinder Engine Flex Fuel Capab...</td>\n",
              "      <td>A/T</td>\n",
              "      <td>Blue</td>\n",
              "      <td>Gray</td>\n",
              "      <td>None reported</td>\n",
              "      <td>Yes</td>\n",
              "      <td>13900</td>\n",
              "    </tr>\n",
              "    <tr>\n",
              "      <th>3</th>\n",
              "      <td>3</td>\n",
              "      <td>Genesis</td>\n",
              "      <td>G90 5.0 Ultimate</td>\n",
              "      <td>2017</td>\n",
              "      <td>19500</td>\n",
              "      <td>Gasoline</td>\n",
              "      <td>420.0HP 5.0L 8 Cylinder Engine Gasoline Fuel</td>\n",
              "      <td>Transmission w/Dual Shift Mode</td>\n",
              "      <td>Black</td>\n",
              "      <td>Black</td>\n",
              "      <td>None reported</td>\n",
              "      <td>Yes</td>\n",
              "      <td>45000</td>\n",
              "    </tr>\n",
              "    <tr>\n",
              "      <th>4</th>\n",
              "      <td>4</td>\n",
              "      <td>Mercedes-Benz</td>\n",
              "      <td>Metris Base</td>\n",
              "      <td>2021</td>\n",
              "      <td>7388</td>\n",
              "      <td>Gasoline</td>\n",
              "      <td>208.0HP 2.0L 4 Cylinder Engine Gasoline Fuel</td>\n",
              "      <td>7-Speed A/T</td>\n",
              "      <td>Black</td>\n",
              "      <td>Beige</td>\n",
              "      <td>None reported</td>\n",
              "      <td>Yes</td>\n",
              "      <td>97500</td>\n",
              "    </tr>\n",
              "  </tbody>\n",
              "</table>\n",
              "</div>"
            ],
            "text/plain": [
              "   id          brand              model  model_year  milage      fuel_type  \\\n",
              "0   0           MINI      Cooper S Base        2007  213000       Gasoline   \n",
              "1   1        Lincoln              LS V8        2002  143250       Gasoline   \n",
              "2   2      Chevrolet  Silverado 2500 LT        2002  136731  E85 Flex Fuel   \n",
              "3   3        Genesis   G90 5.0 Ultimate        2017   19500       Gasoline   \n",
              "4   4  Mercedes-Benz        Metris Base        2021    7388       Gasoline   \n",
              "\n",
              "                                              engine  \\\n",
              "0       172.0HP 1.6L 4 Cylinder Engine Gasoline Fuel   \n",
              "1       252.0HP 3.9L 8 Cylinder Engine Gasoline Fuel   \n",
              "2  320.0HP 5.3L 8 Cylinder Engine Flex Fuel Capab...   \n",
              "3       420.0HP 5.0L 8 Cylinder Engine Gasoline Fuel   \n",
              "4       208.0HP 2.0L 4 Cylinder Engine Gasoline Fuel   \n",
              "\n",
              "                     transmission ext_col int_col  \\\n",
              "0                             A/T  Yellow    Gray   \n",
              "1                             A/T  Silver   Beige   \n",
              "2                             A/T    Blue    Gray   \n",
              "3  Transmission w/Dual Shift Mode   Black   Black   \n",
              "4                     7-Speed A/T   Black   Beige   \n",
              "\n",
              "                                 accident clean_title  price  \n",
              "0                           None reported         Yes   4200  \n",
              "1  At least 1 accident or damage reported         Yes   4999  \n",
              "2                           None reported         Yes  13900  \n",
              "3                           None reported         Yes  45000  \n",
              "4                           None reported         Yes  97500  "
            ]
          },
          "execution_count": 13,
          "metadata": {},
          "output_type": "execute_result"
        }
      ],
      "source": [
        "df_r.head() # displaying the first five rows of the dataset"
      ]
    },
    {
      "cell_type": "code",
      "execution_count": null,
      "id": "29034b0a-a022-49ec-87f7-40014b1f170f",
      "metadata": {
        "id": "29034b0a-a022-49ec-87f7-40014b1f170f",
        "outputId": "a19a2fbf-5cc5-4d43-c062-5993a2b02aec"
      },
      "outputs": [
        {
          "data": {
            "text/plain": [
              "Index(['id', 'brand', 'model', 'model_year', 'milage', 'fuel_type', 'engine',\n",
              "       'transmission', 'ext_col', 'int_col', 'accident', 'clean_title',\n",
              "       'price'],\n",
              "      dtype='object')"
            ]
          },
          "execution_count": 14,
          "metadata": {},
          "output_type": "execute_result"
        }
      ],
      "source": [
        "df_r.columns"
      ]
    },
    {
      "cell_type": "code",
      "execution_count": null,
      "id": "062705a9-f9b0-4d58-8ad6-2398fda6c1a6",
      "metadata": {
        "id": "062705a9-f9b0-4d58-8ad6-2398fda6c1a6",
        "outputId": "c9f6ea1a-f510-462b-de2e-f7b40c5370da"
      },
      "outputs": [
        {
          "data": {
            "text/plain": [
              "Index(['id', 'brand', 'model', 'model_year', 'milage', 'fuel_type', 'engine',\n",
              "       'transmission', 'ext_col', 'int_col', 'accident', 'clean_title'],\n",
              "      dtype='object')"
            ]
          },
          "execution_count": 15,
          "metadata": {},
          "output_type": "execute_result"
        }
      ],
      "source": [
        "df_t.columns"
      ]
    },
    {
      "cell_type": "code",
      "execution_count": null,
      "id": "bf6560f8-a74e-425b-bcb0-6c289a3dd472",
      "metadata": {
        "id": "bf6560f8-a74e-425b-bcb0-6c289a3dd472",
        "outputId": "2d580e68-d78a-45fb-83b0-ef945294b534"
      },
      "outputs": [
        {
          "data": {
            "text/plain": [
              "(188533, 13)"
            ]
          },
          "execution_count": 16,
          "metadata": {},
          "output_type": "execute_result"
        }
      ],
      "source": [
        "df_r.shape #row and column number in train datasets"
      ]
    },
    {
      "cell_type": "code",
      "execution_count": null,
      "id": "4b15a0a1-c0ea-47ee-9f6d-dc1612a0cc83",
      "metadata": {
        "id": "4b15a0a1-c0ea-47ee-9f6d-dc1612a0cc83",
        "outputId": "45592a2d-1ab0-4db2-f18e-a5089013221d"
      },
      "outputs": [
        {
          "data": {
            "text/plain": [
              "(125690, 12)"
            ]
          },
          "execution_count": 17,
          "metadata": {},
          "output_type": "execute_result"
        }
      ],
      "source": [
        "df_t.shape # row and column number in test datasets"
      ]
    },
    {
      "cell_type": "code",
      "execution_count": null,
      "id": "53ed7e7b-84dd-4259-b75a-173fd4fe95a1",
      "metadata": {
        "id": "53ed7e7b-84dd-4259-b75a-173fd4fe95a1",
        "outputId": "a77cc0ac-97d4-4d0b-d8fb-6a6670725ac1"
      },
      "outputs": [
        {
          "name": "stdout",
          "output_type": "stream",
          "text": [
            "<class 'pandas.core.frame.DataFrame'>\n",
            "RangeIndex: 188533 entries, 0 to 188532\n",
            "Data columns (total 13 columns):\n",
            " #   Column        Non-Null Count   Dtype \n",
            "---  ------        --------------   ----- \n",
            " 0   id            188533 non-null  int64 \n",
            " 1   brand         188533 non-null  object\n",
            " 2   model         188533 non-null  object\n",
            " 3   model_year    188533 non-null  int64 \n",
            " 4   milage        188533 non-null  int64 \n",
            " 5   fuel_type     183450 non-null  object\n",
            " 6   engine        188533 non-null  object\n",
            " 7   transmission  188533 non-null  object\n",
            " 8   ext_col       188533 non-null  object\n",
            " 9   int_col       188533 non-null  object\n",
            " 10  accident      186081 non-null  object\n",
            " 11  clean_title   167114 non-null  object\n",
            " 12  price         188533 non-null  int64 \n",
            "dtypes: int64(4), object(9)\n",
            "memory usage: 18.7+ MB\n"
          ]
        }
      ],
      "source": [
        "df_r.info() #displaying the datatype and non-null values of the dataset"
      ]
    },
    {
      "cell_type": "code",
      "execution_count": null,
      "id": "ad512b0e-57f8-4f6b-bc61-d1bd95d7d31f",
      "metadata": {
        "id": "ad512b0e-57f8-4f6b-bc61-d1bd95d7d31f",
        "outputId": "eecce873-e372-4647-e456-fd603194319a"
      },
      "outputs": [
        {
          "name": "stdout",
          "output_type": "stream",
          "text": [
            "<class 'pandas.core.frame.DataFrame'>\n",
            "RangeIndex: 125690 entries, 0 to 125689\n",
            "Data columns (total 12 columns):\n",
            " #   Column        Non-Null Count   Dtype \n",
            "---  ------        --------------   ----- \n",
            " 0   id            125690 non-null  int64 \n",
            " 1   brand         125690 non-null  object\n",
            " 2   model         125690 non-null  object\n",
            " 3   model_year    125690 non-null  int64 \n",
            " 4   milage        125690 non-null  int64 \n",
            " 5   fuel_type     122307 non-null  object\n",
            " 6   engine        125690 non-null  object\n",
            " 7   transmission  125690 non-null  object\n",
            " 8   ext_col       125690 non-null  object\n",
            " 9   int_col       125690 non-null  object\n",
            " 10  accident      124058 non-null  object\n",
            " 11  clean_title   111451 non-null  object\n",
            "dtypes: int64(3), object(9)\n",
            "memory usage: 11.5+ MB\n"
          ]
        }
      ],
      "source": [
        "df_t.info() # reviewing the non-null and datatypes of the test datasets"
      ]
    },
    {
      "cell_type": "code",
      "execution_count": null,
      "id": "02c8bb0b-9f99-466c-b11b-d5b3582c1e02",
      "metadata": {
        "id": "02c8bb0b-9f99-466c-b11b-d5b3582c1e02",
        "outputId": "d1b476f2-ff65-4996-a713-f12fe3850385"
      },
      "outputs": [
        {
          "data": {
            "text/plain": [
              "id                  0\n",
              "brand               0\n",
              "model               0\n",
              "model_year          0\n",
              "milage              0\n",
              "fuel_type        5083\n",
              "engine              0\n",
              "transmission        0\n",
              "ext_col             0\n",
              "int_col             0\n",
              "accident         2452\n",
              "clean_title     21419\n",
              "price               0\n",
              "dtype: int64"
            ]
          },
          "execution_count": 20,
          "metadata": {},
          "output_type": "execute_result"
        }
      ],
      "source": [
        "df_r.isnull().sum() #reviewing the actual number of null values in the train dataset"
      ]
    },
    {
      "cell_type": "code",
      "execution_count": null,
      "id": "dc84908a-69c4-437a-b848-c2aaaf770db1",
      "metadata": {
        "id": "dc84908a-69c4-437a-b848-c2aaaf770db1",
        "outputId": "9dcf04b3-eb4d-435e-8506-9acc92874446"
      },
      "outputs": [
        {
          "data": {
            "text/plain": [
              "id                  0\n",
              "brand               0\n",
              "model               0\n",
              "model_year          0\n",
              "milage              0\n",
              "fuel_type        3383\n",
              "engine              0\n",
              "transmission        0\n",
              "ext_col             0\n",
              "int_col             0\n",
              "accident         1632\n",
              "clean_title     14239\n",
              "dtype: int64"
            ]
          },
          "execution_count": 21,
          "metadata": {},
          "output_type": "execute_result"
        }
      ],
      "source": [
        "df_t.isnull().sum()"
      ]
    },
    {
      "cell_type": "markdown",
      "id": "87bc0afb-3fb0-45f2-ade3-df707f0f2241",
      "metadata": {
        "id": "87bc0afb-3fb0-45f2-ade3-df707f0f2241"
      },
      "source": [
        "### MERGING BOTH TRAIN AND TEST DATASET BEFORE DATA PREPROCESSING"
      ]
    },
    {
      "cell_type": "code",
      "execution_count": null,
      "id": "b98cb6bd-3b33-4931-b9c3-20846416ed71",
      "metadata": {
        "id": "b98cb6bd-3b33-4931-b9c3-20846416ed71"
      },
      "outputs": [],
      "source": [
        "df_r['source'] = 'train'\n",
        "df_t['source'] = 'test'"
      ]
    },
    {
      "cell_type": "code",
      "execution_count": null,
      "id": "3058dd24-4f1b-43e3-81fb-9bb4481723ec",
      "metadata": {
        "id": "3058dd24-4f1b-43e3-81fb-9bb4481723ec"
      },
      "outputs": [],
      "source": [
        "df_all = pd.concat([df_r, df_t], ignore_index=True)"
      ]
    },
    {
      "cell_type": "markdown",
      "id": "e9472ede-cffc-49c7-9abb-613deebf7df7",
      "metadata": {
        "id": "e9472ede-cffc-49c7-9abb-613deebf7df7"
      },
      "source": [
        "### CHECKING THE UNIQUES VALUES FOR EACH COLUMN"
      ]
    },
    {
      "cell_type": "code",
      "execution_count": null,
      "id": "b2c77e3c-1016-48bf-9368-83c36d2196a7",
      "metadata": {
        "id": "b2c77e3c-1016-48bf-9368-83c36d2196a7",
        "outputId": "33c72d33-4f12-4332-c35d-e0e193f51d5d"
      },
      "outputs": [
        {
          "data": {
            "text/plain": [
              "brand\n",
              "Ford             38353\n",
              "Mercedes-Benz    32047\n",
              "BMW              28314\n",
              "Chevrolet        27033\n",
              "Audi             18176\n",
              "Porsche          17765\n",
              "Land             15873\n",
              "Toyota           14934\n",
              "Lexus            14372\n",
              "Jeep             10886\n",
              "Cadillac          7733\n",
              "RAM               7002\n",
              "Nissan            6604\n",
              "Tesla             6125\n",
              "INFINITI          5399\n",
              "GMC               5309\n",
              "Dodge             5204\n",
              "Mazda             4489\n",
              "Kia               4247\n",
              "Lincoln           4016\n",
              "Subaru            3972\n",
              "Acura             3849\n",
              "Honda             3537\n",
              "Hyundai           3353\n",
              "Volkswagen        2987\n",
              "Jaguar            2253\n",
              "Bentley           1944\n",
              "MINI              1761\n",
              "Genesis           1612\n",
              "Buick             1591\n",
              "Maserati          1558\n",
              "Lamborghini       1356\n",
              "Volvo             1299\n",
              "Chrysler          1241\n",
              "Alfa              1149\n",
              "Rivian             980\n",
              "Rolls-Royce        944\n",
              "Mitsubishi         918\n",
              "Pontiac            879\n",
              "Hummer             862\n",
              "Ferrari            610\n",
              "McLaren            408\n",
              "Aston              382\n",
              "Saturn             245\n",
              "Scion              182\n",
              "Lucid              111\n",
              "Mercury             96\n",
              "FIAT                81\n",
              "Lotus               71\n",
              "Saab                33\n",
              "Karma               27\n",
              "Plymouth            11\n",
              "Suzuki              10\n",
              "Bugatti             10\n",
              "Maybach             10\n",
              "Polestar             7\n",
              "smart                3\n",
              "Name: count, dtype: int64"
            ]
          },
          "execution_count": 26,
          "metadata": {},
          "output_type": "execute_result"
        }
      ],
      "source": [
        "df_all['brand'].value_counts() # viewing the original brand name"
      ]
    },
    {
      "cell_type": "markdown",
      "id": "7a876ae0-5b2a-4013-80a9-9d77e083c11f",
      "metadata": {
        "id": "7a876ae0-5b2a-4013-80a9-9d77e083c11f"
      },
      "source": [
        "### Grouping of my column variables to reduce noise while training the machine"
      ]
    },
    {
      "cell_type": "code",
      "execution_count": null,
      "id": "3861a67a-493b-4565-b174-7cc470917679",
      "metadata": {
        "id": "3861a67a-493b-4565-b174-7cc470917679"
      },
      "outputs": [],
      "source": [
        "brand_counts = df_all['brand'].value_counts()\n",
        "top_brands = brand_counts[brand_counts > 10000].index\n",
        "df_all['brand_grouped'] = df_all['brand'].apply(lambda x: x if x in top_brands else 'Other')\n"
      ]
    },
    {
      "cell_type": "code",
      "execution_count": null,
      "id": "29aeda7f-d096-4e3a-b3dc-9cc47615ff15",
      "metadata": {
        "id": "29aeda7f-d096-4e3a-b3dc-9cc47615ff15",
        "outputId": "874ad07f-67ec-4c4b-e86a-04b96674d9c9"
      },
      "outputs": [
        {
          "data": {
            "text/plain": [
              "brand_grouped\n",
              "Other            96470\n",
              "Ford             38353\n",
              "Mercedes-Benz    32047\n",
              "BMW              28314\n",
              "Chevrolet        27033\n",
              "Audi             18176\n",
              "Porsche          17765\n",
              "Land             15873\n",
              "Toyota           14934\n",
              "Lexus            14372\n",
              "Jeep             10886\n",
              "Name: count, dtype: int64"
            ]
          },
          "execution_count": 82,
          "metadata": {},
          "output_type": "execute_result"
        }
      ],
      "source": [
        "df_all['brand_grouped'].value_counts() #new brand variables"
      ]
    },
    {
      "cell_type": "code",
      "execution_count": null,
      "id": "d2040a39-9c42-4ae3-859f-c27e1f3a8f54",
      "metadata": {
        "id": "d2040a39-9c42-4ae3-859f-c27e1f3a8f54",
        "outputId": "3c4efad0-0e28-4b6b-8c21-ceb2d356100e"
      },
      "outputs": [
        {
          "data": {
            "text/plain": [
              "model\n",
              "F-150 XLT                   4868\n",
              "M3 Base                     3641\n",
              "Camaro 2SS                  2820\n",
              "M4 Base                     2627\n",
              "Mustang GT Premium          2464\n",
              "                            ... \n",
              "X5 xDrive40e                   2\n",
              "Forte LX                       2\n",
              "V60 T6 R-Design Platinum       2\n",
              "X5 3.0i                        1\n",
              "allroad 2.7T                   1\n",
              "Name: count, Length: 1898, dtype: int64"
            ]
          },
          "execution_count": 30,
          "metadata": {},
          "output_type": "execute_result"
        }
      ],
      "source": [
        "df_all['model'].value_counts() #model variable up to 1898 before grouping"
      ]
    },
    {
      "cell_type": "code",
      "execution_count": null,
      "id": "dab6108b-6454-4040-b34f-b4d5d03fe2b5",
      "metadata": {
        "id": "dab6108b-6454-4040-b34f-b4d5d03fe2b5"
      },
      "outputs": [],
      "source": [
        "# Grouping my model\n",
        "\n",
        "model_counts = df_all['model'].value_counts()\n",
        "rare_models = model_counts[model_counts < 2000].index\n",
        "df_all['model_grouped'] = df_all['model'].apply(lambda x: x if x not in rare_models else 'Other')\n"
      ]
    },
    {
      "cell_type": "code",
      "execution_count": null,
      "id": "49a90763-ff8d-4560-8ea0-e54f78c32cf7",
      "metadata": {
        "id": "49a90763-ff8d-4560-8ea0-e54f78c32cf7",
        "outputId": "87fd0c9c-faf9-4274-838c-13ba371d2200"
      },
      "outputs": [
        {
          "data": {
            "text/plain": [
              "model_grouped\n",
              "Other                   289250\n",
              "F-150 XLT                 4868\n",
              "M3 Base                   3641\n",
              "Camaro 2SS                2820\n",
              "M4 Base                   2627\n",
              "Mustang GT Premium        2464\n",
              "F-150 Lariat              2304\n",
              "E-Class E 350 4MATIC      2239\n",
              "1500 Laramie              2006\n",
              "911 Carrera S             2004\n",
              "Name: count, dtype: int64"
            ]
          },
          "execution_count": 32,
          "metadata": {},
          "output_type": "execute_result"
        }
      ],
      "source": [
        "df_all['model_grouped'].value_counts() #new model variables"
      ]
    },
    {
      "cell_type": "code",
      "execution_count": null,
      "id": "0a41cd42-42d5-4534-85c8-aa7f1dc2c388",
      "metadata": {
        "id": "0a41cd42-42d5-4534-85c8-aa7f1dc2c388",
        "outputId": "025ce4c7-990c-4c3d-d6b8-2eada5e5ffee"
      },
      "outputs": [
        {
          "data": {
            "text/plain": [
              "fuel_type\n",
              "Gasoline          276473\n",
              "Hybrid             11508\n",
              "E85 Flex Fuel       8929\n",
              "Diesel              6641\n",
              "–                   1319\n",
              "Plug-In Hybrid       858\n",
              "not supported         29\n",
              "Name: count, dtype: int64"
            ]
          },
          "execution_count": 33,
          "metadata": {},
          "output_type": "execute_result"
        }
      ],
      "source": [
        "df_all['fuel_type'].value_counts()"
      ]
    },
    {
      "cell_type": "code",
      "execution_count": null,
      "id": "95229055-a28d-4ed9-9ab1-3ee13230c083",
      "metadata": {
        "id": "95229055-a28d-4ed9-9ab1-3ee13230c083",
        "outputId": "a788716b-b095-48cc-8e7d-8323a126045d"
      },
      "outputs": [
        {
          "name": "stderr",
          "output_type": "stream",
          "text": [
            "C:\\Users\\Nkechi Pc\\AppData\\Local\\Temp\\ipykernel_20572\\1167709264.py:2: FutureWarning: A value is trying to be set on a copy of a DataFrame or Series through chained assignment using an inplace method.\n",
            "The behavior will change in pandas 3.0. This inplace method will never work because the intermediate object on which we are setting values always behaves as a copy.\n",
            "\n",
            "For example, when doing 'df[col].method(value, inplace=True)', try using 'df.method({col: value}, inplace=True)' or df[col] = df[col].method(value) instead, to perform the operation inplace on the original object.\n",
            "\n",
            "\n",
            "  df_all['fuel_type'].fillna(global_mode, inplace=True)\n"
          ]
        }
      ],
      "source": [
        "global_mode = df_all['fuel_type'].mode()[0]\n",
        "df_all['fuel_type'].fillna(global_mode, inplace=True)\n"
      ]
    },
    {
      "cell_type": "code",
      "execution_count": null,
      "id": "053a2030-0357-45be-97bf-c4fb6c8e9de9",
      "metadata": {
        "id": "053a2030-0357-45be-97bf-c4fb6c8e9de9",
        "outputId": "6d4296cb-1008-4abb-de73-84e3bf14c974"
      },
      "outputs": [
        {
          "data": {
            "text/plain": [
              "fuel_type\n",
              "Gasoline          284939\n",
              "Hybrid             11508\n",
              "E85 Flex Fuel       8929\n",
              "Diesel              6641\n",
              "–                   1319\n",
              "Plug-In Hybrid       858\n",
              "not supported         29\n",
              "Name: count, dtype: int64"
            ]
          },
          "execution_count": 35,
          "metadata": {},
          "output_type": "execute_result"
        }
      ],
      "source": [
        "df_all['fuel_type'].value_counts()"
      ]
    },
    {
      "cell_type": "code",
      "execution_count": null,
      "id": "7dde0cc8-6cc5-41a5-8ae3-75c3e1683ba2",
      "metadata": {
        "id": "7dde0cc8-6cc5-41a5-8ae3-75c3e1683ba2"
      },
      "outputs": [],
      "source": [
        "# Grouping my engine\n",
        "\n",
        "engine_counts = df_all['engine'].value_counts()\n",
        "rare_engines = engine_counts[engine_counts < 2000].index\n",
        "df_all['engine_grouped'] = df_all['engine'].apply(lambda x: x if x not in rare_engines else 'Other')"
      ]
    },
    {
      "cell_type": "code",
      "execution_count": null,
      "id": "e491e682-0f8d-469a-a88a-a1eef42cfa0a",
      "metadata": {
        "id": "e491e682-0f8d-469a-a88a-a1eef42cfa0a",
        "outputId": "d3141be1-89eb-4328-bbc1-38e7c48c3a42"
      },
      "outputs": [
        {
          "data": {
            "text/plain": [
              "engine_grouped\n",
              "Other                                                    238588\n",
              "355.0HP 5.3L 8 Cylinder Engine Gasoline Fuel               5651\n",
              "240.0HP 2.0L 4 Cylinder Engine Gasoline Fuel               4868\n",
              "420.0HP 6.2L 8 Cylinder Engine Gasoline Fuel               4694\n",
              "2.0L I4 16V GDI DOHC Turbo                                 4513\n",
              "375.0HP 3.5L V6 Cylinder Engine Gasoline Fuel              4090\n",
              "340.0HP 3.0L V6 Cylinder Engine Gasoline Fuel              4001\n",
              "490.0HP 6.2L 8 Cylinder Engine Gasoline Fuel               3689\n",
              "455.0HP 6.2L 8 Cylinder Engine Gasoline Fuel               3539\n",
              "300.0HP 3.0L Straight 6 Cylinder Engine Gasoline Fuel      3453\n",
              "425.0HP 3.0L Straight 6 Cylinder Engine Gasoline Fuel      3451\n",
              "285.0HP 3.6L V6 Cylinder Engine Gasoline Fuel              3216\n",
              "295.0HP 3.5L V6 Cylinder Engine Gasoline Fuel              3167\n",
              "302.0HP 3.5L V6 Cylinder Engine Gasoline Fuel              3167\n",
              "3.5L V6 24V PDI DOHC Twin Turbo                            3100\n",
              "301.0HP 4.6L 8 Cylinder Engine Gasoline Fuel               2655\n",
              "3.6L V6 24V MPFI DOHC                                      2523\n",
              "5.7L V8 16V MPFI OHV                                       2505\n",
              "4.0L V8 32V GDI DOHC Twin Turbo                            2495\n",
              "268.0HP 3.5L V6 Cylinder Engine Gasoline Fuel              2422\n",
              "333.0HP 3.0L V6 Cylinder Engine Gasoline Fuel              2215\n",
              "365.0HP 3.5L V6 Cylinder Engine Gasoline Fuel              2091\n",
              "3.6L V6 24V GDI DOHC                                       2072\n",
              "211.0HP 2.0L 4 Cylinder Engine Gasoline Fuel               2058\n",
              "Name: count, dtype: int64"
            ]
          },
          "execution_count": 37,
          "metadata": {},
          "output_type": "execute_result"
        }
      ],
      "source": [
        "df_all['engine_grouped'].value_counts()"
      ]
    },
    {
      "cell_type": "code",
      "execution_count": null,
      "id": "e4a5ebbb-a89c-4a22-bc83-f1c22354c73a",
      "metadata": {
        "id": "e4a5ebbb-a89c-4a22-bc83-f1c22354c73a",
        "outputId": "a9293dbc-ac42-46d4-b93a-996720a5188f"
      },
      "outputs": [
        {
          "data": {
            "text/plain": [
              "transmission\n",
              "A/T                                                   83036\n",
              "8-Speed A/T                                           34586\n",
              "Transmission w/Dual Shift Mode                        32079\n",
              "6-Speed A/T                                           30105\n",
              "6-Speed M/T                                           19863\n",
              "7-Speed A/T                                           18498\n",
              "Automatic                                             17866\n",
              "8-Speed Automatic                                     13977\n",
              "10-Speed A/T                                          13347\n",
              "9-Speed A/T                                            6450\n",
              "5-Speed A/T                                            5458\n",
              "10-Speed Automatic                                     5268\n",
              "6-Speed Automatic                                      4690\n",
              "4-Speed A/T                                            4212\n",
              "5-Speed M/T                                            4048\n",
              "9-Speed Automatic                                      3878\n",
              "CVT Transmission                                       3327\n",
              "1-Speed A/T                                            3160\n",
              "7-Speed Automatic with Auto-Shift                      1972\n",
              "M/T                                                    1920\n",
              "Automatic CVT                                          1370\n",
              "8-Speed Automatic with Auto-Shift                       894\n",
              "7-Speed M/T                                             635\n",
              "1-Speed Automatic                                       600\n",
              "6-Speed Manual                                          341\n",
              "5-Speed Automatic                                       290\n",
              "7-Speed Automatic                                       290\n",
              "Transmission Overdrive Switch                           280\n",
              "7-Speed Manual                                          240\n",
              "6-Speed Automatic with Auto-Shift                       173\n",
              "2                                                       155\n",
              "–                                                       127\n",
              "Variable                                                124\n",
              "2-Speed A/T                                             116\n",
              "F                                                       107\n",
              "4-Speed Automatic                                        83\n",
              "10-Speed Automatic with Overdrive                        79\n",
              "6 Speed Mt                                               66\n",
              "9-Speed Automatic with Auto-Shift                        61\n",
              "6-Speed Electronically Controlled Automatic with O       60\n",
              "8-Speed Manual                                           51\n",
              "7-Speed                                                  50\n",
              "Manual                                                   45\n",
              "6-Speed                                                  41\n",
              "2-Speed Automatic                                        35\n",
              "6 Speed At/Mt                                            34\n",
              "7-Speed DCT Automatic                                    29\n",
              "Single-Speed Fixed Gear                                  28\n",
              "CVT-F                                                    27\n",
              "8-SPEED AT                                               22\n",
              "8-SPEED A/T                                              15\n",
              "SCHEDULED FOR OR IN PRODUCTION                           15\n",
              "Name: count, dtype: int64"
            ]
          },
          "execution_count": 38,
          "metadata": {},
          "output_type": "execute_result"
        }
      ],
      "source": [
        "df_all['transmission'].value_counts()"
      ]
    },
    {
      "cell_type": "code",
      "execution_count": null,
      "id": "f428f8b2-1bd7-49f3-a47f-5fb79a03f28f",
      "metadata": {
        "id": "f428f8b2-1bd7-49f3-a47f-5fb79a03f28f"
      },
      "outputs": [],
      "source": [
        "# Grouping my transmission column\n",
        "\n",
        "def simplify_transmission(value):\n",
        "    value = str(value).lower()\n",
        "    if 'manual' in value or 'm/t' in value:\n",
        "        return 'Manual'\n",
        "    elif 'a/t' in value or 'automatic' in value or 'shift mode' in value or 'speed a/t' in value:\n",
        "        return 'Automatic'\n",
        "    else:\n",
        "        return 'Unknown'  # fallback for rare or unclear entries\n",
        "\n",
        "df_all['transmission_grouped'] = df_all['transmission'].apply(simplify_transmission)\n"
      ]
    },
    {
      "cell_type": "code",
      "execution_count": null,
      "id": "de2fbf01-28ac-459f-b30d-2941309ec573",
      "metadata": {
        "id": "de2fbf01-28ac-459f-b30d-2941309ec573",
        "outputId": "21e2c48f-d55a-4204-ff54-b64ccef22aa2"
      },
      "outputs": [
        {
          "data": {
            "text/plain": [
              "transmission_grouped\n",
              "Automatic    282677\n",
              "Manual        27143\n",
              "Unknown        4403\n",
              "Name: count, dtype: int64"
            ]
          },
          "execution_count": 40,
          "metadata": {},
          "output_type": "execute_result"
        }
      ],
      "source": [
        "df_all['transmission_grouped'].value_counts() # New transmission group"
      ]
    },
    {
      "cell_type": "code",
      "execution_count": null,
      "id": "d97ade0a-a860-4100-8ca0-5334234b8a7f",
      "metadata": {
        "id": "d97ade0a-a860-4100-8ca0-5334234b8a7f"
      },
      "outputs": [],
      "source": [
        "# Combining interior and exterior color into one column\n",
        "\n",
        "df_all['color_combo'] = df_all['ext_col'] + '_' + df_all['int_col']"
      ]
    },
    {
      "cell_type": "code",
      "execution_count": null,
      "id": "b0d682e6-5f82-42c8-b7ab-831d0cd7210b",
      "metadata": {
        "id": "b0d682e6-5f82-42c8-b7ab-831d0cd7210b",
        "outputId": "0acc1028-cd9b-4c53-c27f-e53cffcf8435"
      },
      "outputs": [
        {
          "data": {
            "text/plain": [
              "color_combo\n",
              "Black_Black                                56547\n",
              "White_Black                                34313\n",
              "Gray_Black                                 26859\n",
              "Silver_Black                               18623\n",
              "White_Beige                                16918\n",
              "                                           ...  \n",
              "White Diamond Tri-Coat_Tupelo                  1\n",
              "Kodiak Brown Metallic_Gray                     1\n",
              "Midnight Black_Shara Beige                     1\n",
              "Majestic Plum Metallic_Macchiato               1\n",
              "Eminent White Pearl_Black / Express Red        1\n",
              "Name: count, Length: 4277, dtype: int64"
            ]
          },
          "execution_count": 42,
          "metadata": {},
          "output_type": "execute_result"
        }
      ],
      "source": [
        "df_all['color_combo'].value_counts()"
      ]
    },
    {
      "cell_type": "code",
      "execution_count": null,
      "id": "b09543b4-226e-41dd-ab3e-fb397b265b41",
      "metadata": {
        "id": "b09543b4-226e-41dd-ab3e-fb397b265b41"
      },
      "outputs": [],
      "source": [
        "combo_counts = df_all['color_combo'].value_counts()\n",
        "top_combos = combo_counts[combo_counts > 10000].index\n",
        "\n",
        "df_all['combo_grouped'] = df_all['color_combo'].apply(lambda x: x if x in top_combos else 'other')\n"
      ]
    },
    {
      "cell_type": "code",
      "execution_count": null,
      "id": "17dbd486-ea88-4353-93da-be2a47c675d4",
      "metadata": {
        "id": "17dbd486-ea88-4353-93da-be2a47c675d4",
        "outputId": "47a30d2a-fc0c-4e5c-c6e6-47cf0bbdcfc4"
      },
      "outputs": [
        {
          "data": {
            "text/plain": [
              "combo_grouped\n",
              "other           149669\n",
              "Black_Black      56547\n",
              "White_Black      34313\n",
              "Gray_Black       26859\n",
              "Silver_Black     18623\n",
              "White_Beige      16918\n",
              "Blue_Black       11294\n",
              "Name: count, dtype: int64"
            ]
          },
          "execution_count": 96,
          "metadata": {},
          "output_type": "execute_result"
        }
      ],
      "source": [
        "df_all['combo_grouped'].value_counts() #New color column"
      ]
    },
    {
      "cell_type": "code",
      "execution_count": null,
      "id": "68144662-f92c-456d-9e89-4dcdfbb5a8d1",
      "metadata": {
        "id": "68144662-f92c-456d-9e89-4dcdfbb5a8d1"
      },
      "outputs": [],
      "source": [
        "# Not satisfied with the previous grouping, then proceeded with this second grouping\n",
        "\n",
        "luxury_combos = ['Black_Beige', 'White_Cream', 'Silver_Black']\n",
        "sporty_combos = ['Red_Black', 'Blue_Black']\n",
        "\n",
        "def combo_tier(x):\n",
        "    if x in luxury_combos:\n",
        "        return 'Luxury'\n",
        "    elif x in sporty_combos:\n",
        "        return 'Sporty'\n",
        "    else:\n",
        "        return 'Standard'\n",
        "\n",
        "df_all['combo_grouped'] = df_all['color_combo'].apply(combo_tier)\n"
      ]
    },
    {
      "cell_type": "code",
      "execution_count": null,
      "id": "34e20ce3-7930-44db-81de-c7c4733130c6",
      "metadata": {
        "id": "34e20ce3-7930-44db-81de-c7c4733130c6",
        "outputId": "e638ea12-f99e-46a0-9ee3-633d8dba8cc0"
      },
      "outputs": [
        {
          "data": {
            "text/plain": [
              "combo_grouped\n",
              "Standard    268382\n",
              "Luxury       26175\n",
              "Sporty       19666\n",
              "Name: count, dtype: int64"
            ]
          },
          "execution_count": 100,
          "metadata": {},
          "output_type": "execute_result"
        }
      ],
      "source": [
        "df_all['combo_grouped'].value_counts() # Updated color grouping"
      ]
    },
    {
      "cell_type": "code",
      "execution_count": null,
      "id": "98ab5591-1c1c-4e8b-9a5e-0951276581f4",
      "metadata": {
        "id": "98ab5591-1c1c-4e8b-9a5e-0951276581f4",
        "outputId": "517593c3-499b-47cc-961c-b7de5c966805"
      },
      "outputs": [
        {
          "data": {
            "text/plain": [
              "0                                  None reported\n",
              "1         At least 1 accident or damage reported\n",
              "2                                  None reported\n",
              "3                                  None reported\n",
              "4                                  None reported\n",
              "                           ...                  \n",
              "314218                             None reported\n",
              "314219                             None reported\n",
              "314220                             None reported\n",
              "314221                             None reported\n",
              "314222                             None reported\n",
              "Name: accident, Length: 314223, dtype: object"
            ]
          },
          "execution_count": 102,
          "metadata": {},
          "output_type": "execute_result"
        }
      ],
      "source": [
        "df_all['accident']"
      ]
    },
    {
      "cell_type": "code",
      "execution_count": null,
      "id": "7a30bf79-6519-4057-bf89-bc1e03f5f052",
      "metadata": {
        "id": "7a30bf79-6519-4057-bf89-bc1e03f5f052"
      },
      "outputs": [],
      "source": [
        "# replacing the variable names with Accident or No-Accident\n",
        "\n",
        "df_all['accident'] = df_all['accident'].replace({\n",
        "    'At least 1 accident or damage reported': 'Accident',\n",
        "    'None reported': 'No-Accident'\n",
        "})\n"
      ]
    },
    {
      "cell_type": "code",
      "execution_count": null,
      "id": "29fcf6af-855c-48d2-9d28-0e42c4fec10f",
      "metadata": {
        "id": "29fcf6af-855c-48d2-9d28-0e42c4fec10f",
        "outputId": "cb65333a-e166-4049-e337-4f412974fb7d"
      },
      "outputs": [
        {
          "data": {
            "text/plain": [
              "accident\n",
              "No-Accident    240777\n",
              "Accident        69362\n",
              "Name: count, dtype: int64"
            ]
          },
          "execution_count": 106,
          "metadata": {},
          "output_type": "execute_result"
        }
      ],
      "source": [
        "df_all['accident'].value_counts()"
      ]
    },
    {
      "cell_type": "code",
      "execution_count": null,
      "id": "b7b2543c-537a-4040-8e75-f87d6a70fb01",
      "metadata": {
        "id": "b7b2543c-537a-4040-8e75-f87d6a70fb01",
        "outputId": "4c9a3d7e-5e44-4e02-d283-d3dfc0fd8d27"
      },
      "outputs": [
        {
          "data": {
            "text/plain": [
              "0         Yes\n",
              "1         Yes\n",
              "2         Yes\n",
              "3         Yes\n",
              "4         Yes\n",
              "         ... \n",
              "314218    Yes\n",
              "314219    NaN\n",
              "314220    Yes\n",
              "314221    Yes\n",
              "314222    Yes\n",
              "Name: clean_title, Length: 314223, dtype: object"
            ]
          },
          "execution_count": 108,
          "metadata": {},
          "output_type": "execute_result"
        }
      ],
      "source": [
        "df_all['clean_title']"
      ]
    },
    {
      "cell_type": "code",
      "execution_count": null,
      "id": "4abb4c17-2b34-4aeb-a153-0b1ec4b270bb",
      "metadata": {
        "id": "4abb4c17-2b34-4aeb-a153-0b1ec4b270bb"
      },
      "outputs": [],
      "source": [
        "# Grouping of the model_year to reduce the noise when training as well\n",
        "\n",
        "def group_by_decade(year):\n",
        "    if year < 1990:\n",
        "        return 'Pre-90s'\n",
        "    elif year < 2000:\n",
        "        return '1990s'\n",
        "    elif year < 2010:\n",
        "        return '2000s'\n",
        "    elif year < 2020:\n",
        "        return '2010s'\n",
        "    else:\n",
        "        return '2020s'\n",
        "\n",
        "df_all['year_group'] = df_all['model_year'].apply(group_by_decade)\n"
      ]
    },
    {
      "cell_type": "code",
      "execution_count": null,
      "id": "7cbb14a4-6219-46b2-98b5-2a98051e64f2",
      "metadata": {
        "id": "7cbb14a4-6219-46b2-98b5-2a98051e64f2",
        "outputId": "4ad7d0cf-99d6-4485-9c44-582a204330b6"
      },
      "outputs": [
        {
          "data": {
            "text/plain": [
              "year_group\n",
              "2010s      169117\n",
              "2020s       97791\n",
              "2000s       44323\n",
              "1990s        2972\n",
              "Pre-90s        20\n",
              "Name: count, dtype: int64"
            ]
          },
          "execution_count": 112,
          "metadata": {},
          "output_type": "execute_result"
        }
      ],
      "source": [
        "df_all['year_group'].value_counts() # new model_year variables"
      ]
    },
    {
      "cell_type": "code",
      "execution_count": null,
      "id": "a2f182f5-6dff-4ae0-859b-c68a901f19c2",
      "metadata": {
        "id": "a2f182f5-6dff-4ae0-859b-c68a901f19c2",
        "outputId": "2ddcb4c6-d2fd-479a-e064-e0b112b85a8a"
      },
      "outputs": [
        {
          "data": {
            "text/plain": [
              "milage\n",
              "60000     2182\n",
              "170000    2165\n",
              "120000    1920\n",
              "110000    1918\n",
              "130000    1634\n",
              "          ... \n",
              "70169        1\n",
              "151775       1\n",
              "87582        1\n",
              "133815       1\n",
              "21436        1\n",
              "Name: count, Length: 8440, dtype: int64"
            ]
          },
          "execution_count": 53,
          "metadata": {},
          "output_type": "execute_result"
        }
      ],
      "source": [
        "df_all['milage'].value_counts()"
      ]
    },
    {
      "cell_type": "code",
      "execution_count": null,
      "id": "4d9b9457-bb5b-4632-9c70-e8808d994ae4",
      "metadata": {
        "id": "4d9b9457-bb5b-4632-9c70-e8808d994ae4"
      },
      "outputs": [],
      "source": [
        "# Grouping of milage according to the number\n",
        "\n",
        "def mileage_bucket(m):\n",
        "    if m < 20000:\n",
        "        return 'Very Low'\n",
        "    elif m < 60000:\n",
        "        return 'Low'\n",
        "    elif m < 120000:\n",
        "        return 'Moderate'\n",
        "    elif m < 180000:\n",
        "        return 'High'\n",
        "    else:\n",
        "        return 'Very High'\n",
        "\n",
        "df_all['milage_grouped'] = df_all['milage'].apply(mileage_bucket)\n"
      ]
    },
    {
      "cell_type": "code",
      "execution_count": null,
      "id": "280a2ee5-d8b2-4012-b629-88f1dd5939ad",
      "metadata": {
        "id": "280a2ee5-d8b2-4012-b629-88f1dd5939ad",
        "outputId": "b776f895-6ce4-4b3e-9f9a-5c6fe4cd4016"
      },
      "outputs": [
        {
          "data": {
            "text/plain": [
              "milage_grouped\n",
              "Moderate     102577\n",
              "Low           95461\n",
              "Very Low      66765\n",
              "High          42006\n",
              "Very High      7414\n",
              "Name: count, dtype: int64"
            ]
          },
          "execution_count": 55,
          "metadata": {},
          "output_type": "execute_result"
        }
      ],
      "source": [
        "df_all['milage_grouped'].value_counts()"
      ]
    },
    {
      "cell_type": "markdown",
      "id": "c4b46397-58e2-4de5-b7f5-b464a56f8437",
      "metadata": {
        "id": "c4b46397-58e2-4de5-b7f5-b464a56f8437"
      },
      "source": [
        "### WORKING ON MISSING VALUES"
      ]
    },
    {
      "cell_type": "code",
      "execution_count": null,
      "id": "c55b2de4-1015-40ca-82a8-309d5f7a718b",
      "metadata": {
        "id": "c55b2de4-1015-40ca-82a8-309d5f7a718b",
        "outputId": "749386ca-a7b4-42ba-da84-228f08503977"
      },
      "outputs": [
        {
          "data": {
            "text/plain": [
              "id                           0\n",
              "brand                        0\n",
              "model                        0\n",
              "model_year                   0\n",
              "milage                       0\n",
              "fuel_type                    0\n",
              "engine                       0\n",
              "transmission                 0\n",
              "ext_col                      0\n",
              "int_col                      0\n",
              "accident                  4084\n",
              "clean_title              35658\n",
              "price                   125690\n",
              "source                       0\n",
              "brand_grouped                0\n",
              "model_grouped                0\n",
              "engine_grouped               0\n",
              "transmission_grouped         0\n",
              "color_combo                  0\n",
              "combo_grouped                0\n",
              "year_group                   0\n",
              "milage_grouped               0\n",
              "dtype: int64"
            ]
          },
          "execution_count": 116,
          "metadata": {},
          "output_type": "execute_result"
        }
      ],
      "source": [
        "df_all.isnull().sum()"
      ]
    },
    {
      "cell_type": "code",
      "execution_count": null,
      "id": "33f8fdae-1cbb-4e24-85d6-523604624407",
      "metadata": {
        "id": "33f8fdae-1cbb-4e24-85d6-523604624407",
        "outputId": "98d81bd6-5f9b-4f41-e38f-97949ae07876"
      },
      "outputs": [
        {
          "name": "stderr",
          "output_type": "stream",
          "text": [
            "C:\\Users\\Nkechi Pc\\AppData\\Local\\Temp\\ipykernel_20572\\1543708893.py:1: FutureWarning: A value is trying to be set on a copy of a DataFrame or Series through chained assignment using an inplace method.\n",
            "The behavior will change in pandas 3.0. This inplace method will never work because the intermediate object on which we are setting values always behaves as a copy.\n",
            "\n",
            "For example, when doing 'df[col].method(value, inplace=True)', try using 'df.method({col: value}, inplace=True)' or df[col] = df[col].method(value) instead, to perform the operation inplace on the original object.\n",
            "\n",
            "\n",
            "  df_all['accident'].fillna('Unknown', inplace=True)\n"
          ]
        }
      ],
      "source": [
        "df_all['accident'].fillna('Unknown', inplace=True)"
      ]
    },
    {
      "cell_type": "code",
      "execution_count": null,
      "id": "818400c2-1a2a-4473-8266-6245b72220c3",
      "metadata": {
        "id": "818400c2-1a2a-4473-8266-6245b72220c3",
        "outputId": "624ae536-45a9-404c-a82d-90a4112197cd"
      },
      "outputs": [
        {
          "data": {
            "text/plain": [
              "accident\n",
              "No-Accident    240777\n",
              "Accident        69362\n",
              "Unknown          4084\n",
              "Name: count, dtype: int64"
            ]
          },
          "execution_count": 59,
          "metadata": {},
          "output_type": "execute_result"
        }
      ],
      "source": [
        "df_all['accident'].value_counts()"
      ]
    },
    {
      "cell_type": "code",
      "execution_count": null,
      "id": "8d397394-b28f-40b1-baff-b5659c42625c",
      "metadata": {
        "id": "8d397394-b28f-40b1-baff-b5659c42625c",
        "outputId": "88ce7266-f2ec-4fef-be88-6c5bbd8348ca"
      },
      "outputs": [
        {
          "data": {
            "text/plain": [
              "clean_title\n",
              "Yes    278565\n",
              "Name: count, dtype: int64"
            ]
          },
          "execution_count": 60,
          "metadata": {},
          "output_type": "execute_result"
        }
      ],
      "source": [
        "df_all['clean_title'].value_counts()"
      ]
    },
    {
      "cell_type": "markdown",
      "id": "4a8a73bd-88e0-488d-b241-117b6473b105",
      "metadata": {
        "id": "4a8a73bd-88e0-488d-b241-117b6473b105"
      },
      "source": [
        "#### Since all reported values for clean_title is ```YES```, I would fill the missing values with YES, but if not correlated with price, I will drop it."
      ]
    },
    {
      "cell_type": "code",
      "execution_count": null,
      "id": "94e97051-362b-49e5-8db6-8aeab25e6427",
      "metadata": {
        "id": "94e97051-362b-49e5-8db6-8aeab25e6427"
      },
      "outputs": [],
      "source": [
        "df_all['clean_title'].fillna('Yes', inplace=True) # replacing the missing values with same YES since all filled YES"
      ]
    },
    {
      "cell_type": "code",
      "execution_count": null,
      "id": "c62d4f80-563e-4842-8514-2930624cc2b8",
      "metadata": {
        "id": "c62d4f80-563e-4842-8514-2930624cc2b8",
        "outputId": "3672a714-051c-4686-8a83-0437f81e404f"
      },
      "outputs": [
        {
          "data": {
            "text/plain": [
              "0"
            ]
          },
          "execution_count": 122,
          "metadata": {},
          "output_type": "execute_result"
        }
      ],
      "source": [
        "df_all['clean_title'].isnull().sum() # confirming the removal of null values"
      ]
    },
    {
      "cell_type": "markdown",
      "id": "de61b882-6974-4e84-9ce0-8d833dddf247",
      "metadata": {
        "id": "de61b882-6974-4e84-9ce0-8d833dddf247"
      },
      "source": [
        "### DROPPING of the original column names before grouping"
      ]
    },
    {
      "cell_type": "code",
      "execution_count": null,
      "id": "3377537d-73bd-4878-b28c-7d9d98e81a71",
      "metadata": {
        "id": "3377537d-73bd-4878-b28c-7d9d98e81a71"
      },
      "outputs": [],
      "source": [
        "df_new = df_all.drop(columns=['id', 'brand', 'model', 'model_year', 'milage', 'engine', 'transmission', 'ext_col', 'int_col', 'clean_title', 'color_combo'])"
      ]
    },
    {
      "cell_type": "code",
      "execution_count": null,
      "id": "8f04e0a6-d799-4e69-b3eb-f4aacd22d3f9",
      "metadata": {
        "id": "8f04e0a6-d799-4e69-b3eb-f4aacd22d3f9"
      },
      "outputs": [],
      "source": [
        "df_new.head()"
      ]
    },
    {
      "cell_type": "markdown",
      "id": "6a82f727-4642-4ee5-9d4a-f00cba36672b",
      "metadata": {
        "id": "6a82f727-4642-4ee5-9d4a-f00cba36672b"
      },
      "source": [
        "### RENAMING MY COLUMN NAMES TO THEIR ORIGINAL COLUMN NAMES"
      ]
    },
    {
      "cell_type": "code",
      "execution_count": null,
      "id": "fa51e8a7-938f-48df-b5f8-656114b9afed",
      "metadata": {
        "id": "fa51e8a7-938f-48df-b5f8-656114b9afed"
      },
      "outputs": [],
      "source": [
        "df = df_new\n",
        "df  = df.rename(columns = {'brand_grouped':'brand', 'model_grouped':'model', 'year_group':'model_year', 'engine_grouped':'engine', 'transmission_grouped':'transmission', 'combo_grouped':'color_combo', 'milage_grouped':'milage'})"
      ]
    },
    {
      "cell_type": "code",
      "execution_count": null,
      "id": "e788b856-2267-4dbe-9dd4-02105b72c094",
      "metadata": {
        "id": "e788b856-2267-4dbe-9dd4-02105b72c094"
      },
      "outputs": [],
      "source": [
        "df.columns"
      ]
    },
    {
      "cell_type": "markdown",
      "id": "47e1c2c5-4631-4214-95a7-970d30d616ba",
      "metadata": {
        "id": "47e1c2c5-4631-4214-95a7-970d30d616ba"
      },
      "source": [
        "### DATA VISUALIZATIONS"
      ]
    },
    {
      "cell_type": "code",
      "execution_count": null,
      "id": "c07f03fd-2af2-4cbb-9806-5c97d77a3191",
      "metadata": {
        "id": "c07f03fd-2af2-4cbb-9806-5c97d77a3191",
        "outputId": "1081619c-2b1a-4d42-ec1b-aa82c5d80972"
      },
      "outputs": [
        {
          "data": {
            "text/plain": [
              "Text(0.5, 1.0, 'Distribution of Car Prices')"
            ]
          },
          "execution_count": 130,
          "metadata": {},
          "output_type": "execute_result"
        },
        {
          "data": {
            "image/png": "[encoded data removed]",
            "text/plain": [
              "<Figure size 640x480 with 1 Axes>"
            ]
          },
          "metadata": {},
          "output_type": "display_data"
        }
      ],
      "source": [
        "sns.histplot(df['price'], bins=50, kde=True)\n",
        "plt.title('Distribution of Car Prices')\n"
      ]
    },
    {
      "cell_type": "code",
      "execution_count": null,
      "id": "c4df3940-2f9a-4610-8038-3e87a2183b3f",
      "metadata": {
        "id": "c4df3940-2f9a-4610-8038-3e87a2183b3f",
        "outputId": "8a0e4e41-d16d-4ef8-8342-c57c4732d1a5"
      },
      "outputs": [
        {
          "data": {
            "image/png": "[encoded data removed]",
            "text/plain": [
              "<Figure size 640x480 with 1 Axes>"
            ]
          },
          "metadata": {},
          "output_type": "display_data"
        }
      ],
      "source": [
        "sns.boxplot(x='model_year', y='price', data=df)\n",
        "plt.title('Price Distribution by Year Group')\n",
        "plt.xlabel('Year Group')\n",
        "plt.ylabel('Price')\n",
        "plt.xticks(rotation=45)\n",
        "plt.show()\n",
        "\n"
      ]
    },
    {
      "cell_type": "code",
      "execution_count": null,
      "id": "fadb86d8-a3d8-4b1e-9da5-b9ca22dc538e",
      "metadata": {
        "id": "fadb86d8-a3d8-4b1e-9da5-b9ca22dc538e",
        "outputId": "24fcf176-bceb-46d3-da6f-40203215a4e9"
      },
      "outputs": [
        {
          "data": {
            "image/png": "[encoded data removed]",
            "text/plain": [
              "<Figure size 640x480 with 1 Axes>"
            ]
          },
          "metadata": {},
          "output_type": "display_data"
        }
      ],
      "source": [
        "\n",
        "year_avg = df_r.groupby('model_year')['price'].mean().reset_index()\n",
        "\n",
        "sns.lineplot(x='model_year', y='price', data=year_avg, marker='o')\n",
        "plt.title('Average Price by Year Group')\n",
        "plt.xlabel('Year Group')\n",
        "plt.ylabel('Average Price')\n",
        "plt.grid(True)\n",
        "plt.show()\n"
      ]
    },
    {
      "cell_type": "markdown",
      "id": "4005ff93-e2dc-4bb0-9294-1568cdbd4b45",
      "metadata": {
        "id": "4005ff93-e2dc-4bb0-9294-1568cdbd4b45"
      },
      "source": [
        "### DATA TRANSFORMATION USING ENCODERS"
      ]
    },
    {
      "cell_type": "markdown",
      "id": "ef414e58-1c4d-45df-809f-a64c1a757f31",
      "metadata": {
        "id": "ef414e58-1c4d-45df-809f-a64c1a757f31"
      },
      "source": [
        "#### We will start by grouping into numerical and categorical variables for easy encoding"
      ]
    },
    {
      "cell_type": "code",
      "execution_count": null,
      "id": "37997f7c-65ed-47e0-aa3c-d0e96d040ea5",
      "metadata": {
        "id": "37997f7c-65ed-47e0-aa3c-d0e96d040ea5"
      },
      "outputs": [],
      "source": [
        "features = df.drop(columns=['source', 'price']).columns.tolist()\n"
      ]
    },
    {
      "cell_type": "code",
      "execution_count": null,
      "id": "58442eab-1752-4df4-9d88-15569f202dd6",
      "metadata": {
        "id": "58442eab-1752-4df4-9d88-15569f202dd6"
      },
      "outputs": [],
      "source": [
        "lab = LabelEncoder()\n",
        "df['model_year_encoded'] = lab.fit_transform(df['model_year'])\n"
      ]
    },
    {
      "cell_type": "code",
      "execution_count": null,
      "id": "8530f53b-84dc-4427-b951-f03e73f54cda",
      "metadata": {
        "id": "8530f53b-84dc-4427-b951-f03e73f54cda",
        "outputId": "69c4f764-73db-43e9-e9c6-d2dcf0e5c186"
      },
      "outputs": [
        {
          "data": {
            "text/html": [
              "<div>\n",
              "<style scoped>\n",
              "    .dataframe tbody tr th:only-of-type {\n",
              "        vertical-align: middle;\n",
              "    }\n",
              "\n",
              "    .dataframe tbody tr th {\n",
              "        vertical-align: top;\n",
              "    }\n",
              "\n",
              "    .dataframe thead th {\n",
              "        text-align: right;\n",
              "    }\n",
              "</style>\n",
              "<table border=\"1\" class=\"dataframe\">\n",
              "  <thead>\n",
              "    <tr style=\"text-align: right;\">\n",
              "      <th></th>\n",
              "      <th>model_year_encoded</th>\n",
              "    </tr>\n",
              "  </thead>\n",
              "  <tbody>\n",
              "    <tr>\n",
              "      <th>0</th>\n",
              "      <td>1</td>\n",
              "    </tr>\n",
              "    <tr>\n",
              "      <th>1</th>\n",
              "      <td>1</td>\n",
              "    </tr>\n",
              "    <tr>\n",
              "      <th>2</th>\n",
              "      <td>1</td>\n",
              "    </tr>\n",
              "    <tr>\n",
              "      <th>3</th>\n",
              "      <td>2</td>\n",
              "    </tr>\n",
              "    <tr>\n",
              "      <th>4</th>\n",
              "      <td>3</td>\n",
              "    </tr>\n",
              "    <tr>\n",
              "      <th>...</th>\n",
              "      <td>...</td>\n",
              "    </tr>\n",
              "    <tr>\n",
              "      <th>314218</th>\n",
              "      <td>2</td>\n",
              "    </tr>\n",
              "    <tr>\n",
              "      <th>314219</th>\n",
              "      <td>2</td>\n",
              "    </tr>\n",
              "    <tr>\n",
              "      <th>314220</th>\n",
              "      <td>2</td>\n",
              "    </tr>\n",
              "    <tr>\n",
              "      <th>314221</th>\n",
              "      <td>2</td>\n",
              "    </tr>\n",
              "    <tr>\n",
              "      <th>314222</th>\n",
              "      <td>2</td>\n",
              "    </tr>\n",
              "  </tbody>\n",
              "</table>\n",
              "<p>314223 rows × 1 columns</p>\n",
              "</div>"
            ],
            "text/plain": [
              "        model_year_encoded\n",
              "0                        1\n",
              "1                        1\n",
              "2                        1\n",
              "3                        2\n",
              "4                        3\n",
              "...                    ...\n",
              "314218                   2\n",
              "314219                   2\n",
              "314220                   2\n",
              "314221                   2\n",
              "314222                   2\n",
              "\n",
              "[314223 rows x 1 columns]"
            ]
          },
          "execution_count": 140,
          "metadata": {},
          "output_type": "execute_result"
        }
      ],
      "source": [
        "# converting back into DataFrame\n",
        "\n",
        "df_encoded_year = pd.DataFrame(df['model_year_encoded'], columns=['model_year_encoded'])\n",
        "df_encoded_year"
      ]
    },
    {
      "cell_type": "markdown",
      "id": "76365235-ba24-419e-8677-87c1cbf73c5c",
      "metadata": {
        "id": "76365235-ba24-419e-8677-87c1cbf73c5c"
      },
      "source": [
        "#### Encoding the remaining column names except model_year"
      ]
    },
    {
      "cell_type": "code",
      "execution_count": null,
      "id": "ac649385-d362-4bc9-8f84-0067e0e5032a",
      "metadata": {
        "id": "ac649385-d362-4bc9-8f84-0067e0e5032a"
      },
      "outputs": [],
      "source": [
        "features_to_encode = [col for col in features if col != 'model_year']\n",
        "cat_var = df[features_to_encode].select_dtypes(include=['object', 'category']).columns.tolist()"
      ]
    },
    {
      "cell_type": "code",
      "execution_count": null,
      "id": "12a758fb-622e-440d-976c-de53b7937df3",
      "metadata": {
        "id": "12a758fb-622e-440d-976c-de53b7937df3"
      },
      "outputs": [],
      "source": [
        "df_encoded = pd.get_dummies(df_all[cat_var], drop_first=True)\n"
      ]
    },
    {
      "cell_type": "code",
      "execution_count": null,
      "id": "62abf946-8001-4cea-be90-e0d903ceb332",
      "metadata": {
        "id": "62abf946-8001-4cea-be90-e0d903ceb332"
      },
      "outputs": [],
      "source": [
        "df_encoded['model_year'] = df['model_year_encoded']\n"
      ]
    },
    {
      "cell_type": "code",
      "execution_count": null,
      "id": "ce0481aa-70ca-48c4-a60a-a2c4f6591c0e",
      "metadata": {
        "id": "ce0481aa-70ca-48c4-a60a-a2c4f6591c0e",
        "outputId": "fe849d87-6113-497a-ed25-28d108140bf9"
      },
      "outputs": [
        {
          "data": {
            "text/html": [
              "<div>\n",
              "<style scoped>\n",
              "    .dataframe tbody tr th:only-of-type {\n",
              "        vertical-align: middle;\n",
              "    }\n",
              "\n",
              "    .dataframe tbody tr th {\n",
              "        vertical-align: top;\n",
              "    }\n",
              "\n",
              "    .dataframe thead th {\n",
              "        text-align: right;\n",
              "    }\n",
              "</style>\n",
              "<table border=\"1\" class=\"dataframe\">\n",
              "  <thead>\n",
              "    <tr style=\"text-align: right;\">\n",
              "      <th></th>\n",
              "      <th>milage</th>\n",
              "      <th>fuel_type_E85 Flex Fuel</th>\n",
              "      <th>fuel_type_Gasoline</th>\n",
              "      <th>fuel_type_Hybrid</th>\n",
              "      <th>fuel_type_Plug-In Hybrid</th>\n",
              "      <th>fuel_type_not supported</th>\n",
              "      <th>fuel_type_–</th>\n",
              "      <th>accident_No-Accident</th>\n",
              "      <th>accident_Unknown</th>\n",
              "      <th>brand_Alfa</th>\n",
              "      <th>...</th>\n",
              "      <th>color_combo_–_Rioja Red</th>\n",
              "      <th>color_combo_–_Sakhir Orange</th>\n",
              "      <th>color_combo_–_Sakhir Orange/Black</th>\n",
              "      <th>color_combo_–_Sport</th>\n",
              "      <th>color_combo_–_Tan</th>\n",
              "      <th>color_combo_–_Tan/Ebony/Ebony</th>\n",
              "      <th>color_combo_–_Very Light Cashmere</th>\n",
              "      <th>color_combo_–_White</th>\n",
              "      <th>color_combo_–_–</th>\n",
              "      <th>model_year</th>\n",
              "    </tr>\n",
              "  </thead>\n",
              "  <tbody>\n",
              "    <tr>\n",
              "      <th>0</th>\n",
              "      <td>213000</td>\n",
              "      <td>False</td>\n",
              "      <td>True</td>\n",
              "      <td>False</td>\n",
              "      <td>False</td>\n",
              "      <td>False</td>\n",
              "      <td>False</td>\n",
              "      <td>True</td>\n",
              "      <td>False</td>\n",
              "      <td>False</td>\n",
              "      <td>...</td>\n",
              "      <td>False</td>\n",
              "      <td>False</td>\n",
              "      <td>False</td>\n",
              "      <td>False</td>\n",
              "      <td>False</td>\n",
              "      <td>False</td>\n",
              "      <td>False</td>\n",
              "      <td>False</td>\n",
              "      <td>False</td>\n",
              "      <td>1</td>\n",
              "    </tr>\n",
              "    <tr>\n",
              "      <th>1</th>\n",
              "      <td>143250</td>\n",
              "      <td>False</td>\n",
              "      <td>True</td>\n",
              "      <td>False</td>\n",
              "      <td>False</td>\n",
              "      <td>False</td>\n",
              "      <td>False</td>\n",
              "      <td>False</td>\n",
              "      <td>False</td>\n",
              "      <td>False</td>\n",
              "      <td>...</td>\n",
              "      <td>False</td>\n",
              "      <td>False</td>\n",
              "      <td>False</td>\n",
              "      <td>False</td>\n",
              "      <td>False</td>\n",
              "      <td>False</td>\n",
              "      <td>False</td>\n",
              "      <td>False</td>\n",
              "      <td>False</td>\n",
              "      <td>1</td>\n",
              "    </tr>\n",
              "    <tr>\n",
              "      <th>2</th>\n",
              "      <td>136731</td>\n",
              "      <td>True</td>\n",
              "      <td>False</td>\n",
              "      <td>False</td>\n",
              "      <td>False</td>\n",
              "      <td>False</td>\n",
              "      <td>False</td>\n",
              "      <td>True</td>\n",
              "      <td>False</td>\n",
              "      <td>False</td>\n",
              "      <td>...</td>\n",
              "      <td>False</td>\n",
              "      <td>False</td>\n",
              "      <td>False</td>\n",
              "      <td>False</td>\n",
              "      <td>False</td>\n",
              "      <td>False</td>\n",
              "      <td>False</td>\n",
              "      <td>False</td>\n",
              "      <td>False</td>\n",
              "      <td>1</td>\n",
              "    </tr>\n",
              "    <tr>\n",
              "      <th>3</th>\n",
              "      <td>19500</td>\n",
              "      <td>False</td>\n",
              "      <td>True</td>\n",
              "      <td>False</td>\n",
              "      <td>False</td>\n",
              "      <td>False</td>\n",
              "      <td>False</td>\n",
              "      <td>True</td>\n",
              "      <td>False</td>\n",
              "      <td>False</td>\n",
              "      <td>...</td>\n",
              "      <td>False</td>\n",
              "      <td>False</td>\n",
              "      <td>False</td>\n",
              "      <td>False</td>\n",
              "      <td>False</td>\n",
              "      <td>False</td>\n",
              "      <td>False</td>\n",
              "      <td>False</td>\n",
              "      <td>False</td>\n",
              "      <td>2</td>\n",
              "    </tr>\n",
              "    <tr>\n",
              "      <th>4</th>\n",
              "      <td>7388</td>\n",
              "      <td>False</td>\n",
              "      <td>True</td>\n",
              "      <td>False</td>\n",
              "      <td>False</td>\n",
              "      <td>False</td>\n",
              "      <td>False</td>\n",
              "      <td>True</td>\n",
              "      <td>False</td>\n",
              "      <td>False</td>\n",
              "      <td>...</td>\n",
              "      <td>False</td>\n",
              "      <td>False</td>\n",
              "      <td>False</td>\n",
              "      <td>False</td>\n",
              "      <td>False</td>\n",
              "      <td>False</td>\n",
              "      <td>False</td>\n",
              "      <td>False</td>\n",
              "      <td>False</td>\n",
              "      <td>3</td>\n",
              "    </tr>\n",
              "  </tbody>\n",
              "</table>\n",
              "<p>5 rows × 7407 columns</p>\n",
              "</div>"
            ],
            "text/plain": [
              "   milage  fuel_type_E85 Flex Fuel  fuel_type_Gasoline  fuel_type_Hybrid  \\\n",
              "0  213000                    False                True             False   \n",
              "1  143250                    False                True             False   \n",
              "2  136731                     True               False             False   \n",
              "3   19500                    False                True             False   \n",
              "4    7388                    False                True             False   \n",
              "\n",
              "   fuel_type_Plug-In Hybrid  fuel_type_not supported  fuel_type_–  \\\n",
              "0                     False                    False        False   \n",
              "1                     False                    False        False   \n",
              "2                     False                    False        False   \n",
              "3                     False                    False        False   \n",
              "4                     False                    False        False   \n",
              "\n",
              "   accident_No-Accident  accident_Unknown  brand_Alfa  ...  \\\n",
              "0                  True             False       False  ...   \n",
              "1                 False             False       False  ...   \n",
              "2                  True             False       False  ...   \n",
              "3                  True             False       False  ...   \n",
              "4                  True             False       False  ...   \n",
              "\n",
              "   color_combo_–_Rioja Red  color_combo_–_Sakhir Orange  \\\n",
              "0                    False                        False   \n",
              "1                    False                        False   \n",
              "2                    False                        False   \n",
              "3                    False                        False   \n",
              "4                    False                        False   \n",
              "\n",
              "   color_combo_–_Sakhir Orange/Black  color_combo_–_Sport  color_combo_–_Tan  \\\n",
              "0                              False                False              False   \n",
              "1                              False                False              False   \n",
              "2                              False                False              False   \n",
              "3                              False                False              False   \n",
              "4                              False                False              False   \n",
              "\n",
              "   color_combo_–_Tan/Ebony/Ebony  color_combo_–_Very Light Cashmere  \\\n",
              "0                          False                              False   \n",
              "1                          False                              False   \n",
              "2                          False                              False   \n",
              "3                          False                              False   \n",
              "4                          False                              False   \n",
              "\n",
              "   color_combo_–_White  color_combo_–_–  model_year  \n",
              "0                False            False           1  \n",
              "1                False            False           1  \n",
              "2                False            False           1  \n",
              "3                False            False           2  \n",
              "4                False            False           3  \n",
              "\n",
              "[5 rows x 7407 columns]"
            ]
          },
          "execution_count": 146,
          "metadata": {},
          "output_type": "execute_result"
        }
      ],
      "source": [
        "df_encoded.head()"
      ]
    },
    {
      "cell_type": "code",
      "execution_count": null,
      "id": "bad093ec-2b0d-418a-8a7b-0d570f86fdb5",
      "metadata": {
        "id": "bad093ec-2b0d-418a-8a7b-0d570f86fdb5"
      },
      "outputs": [],
      "source": [
        "# Assigning both source and price to a dataframe df_final\n",
        "\n",
        "source_price = df_all[['source', 'price']]\n",
        "df_final = pd.concat([df_encoded, source_price], axis=1)\n"
      ]
    },
    {
      "cell_type": "markdown",
      "id": "cd0a4563-7203-4ce9-aa91-e0c4ee29179b",
      "metadata": {
        "id": "cd0a4563-7203-4ce9-aa91-e0c4ee29179b"
      },
      "source": [
        "### UNMERGING BOTH MY TRAIN AND TEST DATASET BEFORE SPLITTING FOR TRAINING AND TESTING"
      ]
    },
    {
      "cell_type": "code",
      "execution_count": null,
      "id": "4d54813a-d369-4afc-8cef-d10dc5fe799a",
      "metadata": {
        "id": "4d54813a-d369-4afc-8cef-d10dc5fe799a"
      },
      "outputs": [],
      "source": [
        "df_r_clean = df_final[df_final['source'] == 'train'].drop(columns='source')\n",
        "df_t_clean = df_final[df_final['source'] == 'test'].drop(columns=['source', 'price'])  # test has no price\n"
      ]
    },
    {
      "cell_type": "markdown",
      "id": "61fb6425-db48-4ea3-861e-ba9669cb948d",
      "metadata": {
        "id": "61fb6425-db48-4ea3-861e-ba9669cb948d"
      },
      "source": [
        "### Splitting into X and y variable for training purposes"
      ]
    },
    {
      "cell_type": "code",
      "execution_count": null,
      "id": "ecf341cb-4512-4a60-8056-d49f3ee2e9ad",
      "metadata": {
        "id": "ecf341cb-4512-4a60-8056-d49f3ee2e9ad"
      },
      "outputs": [],
      "source": [
        "X = df_r_clean\n",
        "y = df_r_clean['price']"
      ]
    },
    {
      "cell_type": "code",
      "execution_count": null,
      "id": "5a4f343f-8e3e-480e-a301-552ce6eb1079",
      "metadata": {
        "id": "5a4f343f-8e3e-480e-a301-552ce6eb1079"
      },
      "outputs": [],
      "source": [
        "# Using train_test_split to split the variables\n",
        "X_train, X_test, y_train, y_test = train_test_split(X,y, test_size = 0.2, random_state = 42)"
      ]
    },
    {
      "cell_type": "markdown",
      "id": "f1d72885-8cda-4e74-aff2-15172987465e",
      "metadata": {
        "id": "f1d72885-8cda-4e74-aff2-15172987465e"
      },
      "source": [
        "### Training XGBoost Regressor"
      ]
    },
    {
      "cell_type": "code",
      "execution_count": null,
      "id": "4c86a4db-9f7f-41d2-9ebe-1c69f681a31d",
      "metadata": {
        "id": "4c86a4db-9f7f-41d2-9ebe-1c69f681a31d",
        "outputId": "5aaae25c-2ae1-49bd-c910-574210c04da0"
      },
      "outputs": [
        {
          "data": {
            "text/html": [
              "<style>#sk-container-id-1 {\n",
              "  /* Definition of color scheme common for light and dark mode */\n",
              "  --sklearn-color-text: black;\n",
              "  --sklearn-color-line: gray;\n",
              "  /* Definition of color scheme for unfitted estimators */\n",
              "  --sklearn-color-unfitted-level-0: #fff5e6;\n",
              "  --sklearn-color-unfitted-level-1: #f6e4d2;\n",
              "  --sklearn-color-unfitted-level-2: #ffe0b3;\n",
              "  --sklearn-color-unfitted-level-3: chocolate;\n",
              "  /* Definition of color scheme for fitted estimators */\n",
              "  --sklearn-color-fitted-level-0: #f0f8ff;\n",
              "  --sklearn-color-fitted-level-1: #d4ebff;\n",
              "  --sklearn-color-fitted-level-2: #b3dbfd;\n",
              "  --sklearn-color-fitted-level-3: cornflowerblue;\n",
              "\n",
              "  /* Specific color for light theme */\n",
              "  --sklearn-color-text-on-default-background: var(--sg-text-color, var(--theme-code-foreground, var(--jp-content-font-color1, black)));\n",
              "  --sklearn-color-background: var(--sg-background-color, var(--theme-background, var(--jp-layout-color0, white)));\n",
              "  --sklearn-color-border-box: var(--sg-text-color, var(--theme-code-foreground, var(--jp-content-font-color1, black)));\n",
              "  --sklearn-color-icon: #696969;\n",
              "\n",
              "  @media (prefers-color-scheme: dark) {\n",
              "    /* Redefinition of color scheme for dark theme */\n",
              "    --sklearn-color-text-on-default-background: var(--sg-text-color, var(--theme-code-foreground, var(--jp-content-font-color1, white)));\n",
              "    --sklearn-color-background: var(--sg-background-color, var(--theme-background, var(--jp-layout-color0, #111)));\n",
              "    --sklearn-color-border-box: var(--sg-text-color, var(--theme-code-foreground, var(--jp-content-font-color1, white)));\n",
              "    --sklearn-color-icon: #878787;\n",
              "  }\n",
              "}\n",
              "\n",
              "#sk-container-id-1 {\n",
              "  color: var(--sklearn-color-text);\n",
              "}\n",
              "\n",
              "#sk-container-id-1 pre {\n",
              "  padding: 0;\n",
              "}\n",
              "\n",
              "#sk-container-id-1 input.sk-hidden--visually {\n",
              "  border: 0;\n",
              "  clip: rect(1px 1px 1px 1px);\n",
              "  clip: rect(1px, 1px, 1px, 1px);\n",
              "  height: 1px;\n",
              "  margin: -1px;\n",
              "  overflow: hidden;\n",
              "  padding: 0;\n",
              "  position: absolute;\n",
              "  width: 1px;\n",
              "}\n",
              "\n",
              "#sk-container-id-1 div.sk-dashed-wrapped {\n",
              "  border: 1px dashed var(--sklearn-color-line);\n",
              "  margin: 0 0.4em 0.5em 0.4em;\n",
              "  box-sizing: border-box;\n",
              "  padding-bottom: 0.4em;\n",
              "  background-color: var(--sklearn-color-background);\n",
              "}\n",
              "\n",
              "#sk-container-id-1 div.sk-container {\n",
              "  /* jupyter's `normalize.less` sets `[hidden] { display: none; }`\n",
              "     but bootstrap.min.css set `[hidden] { display: none !important; }`\n",
              "     so we also need the `!important` here to be able to override the\n",
              "     default hidden behavior on the sphinx rendered scikit-learn.org.\n",
              "     See: https://github.com/scikit-learn/scikit-learn/issues/21755 */\n",
              "  display: inline-block !important;\n",
              "  position: relative;\n",
              "}\n",
              "\n",
              "#sk-container-id-1 div.sk-text-repr-fallback {\n",
              "  display: none;\n",
              "}\n",
              "\n",
              "div.sk-parallel-item,\n",
              "div.sk-serial,\n",
              "div.sk-item {\n",
              "  /* draw centered vertical line to link estimators */\n",
              "  background-image: linear-gradient(var(--sklearn-color-text-on-default-background), var(--sklearn-color-text-on-default-background));\n",
              "  background-size: 2px 100%;\n",
              "  background-repeat: no-repeat;\n",
              "  background-position: center center;\n",
              "}\n",
              "\n",
              "/* Parallel-specific style estimator block */\n",
              "\n",
              "#sk-container-id-1 div.sk-parallel-item::after {\n",
              "  content: \"\";\n",
              "  width: 100%;\n",
              "  border-bottom: 2px solid var(--sklearn-color-text-on-default-background);\n",
              "  flex-grow: 1;\n",
              "}\n",
              "\n",
              "#sk-container-id-1 div.sk-parallel {\n",
              "  display: flex;\n",
              "  align-items: stretch;\n",
              "  justify-content: center;\n",
              "  background-color: var(--sklearn-color-background);\n",
              "  position: relative;\n",
              "}\n",
              "\n",
              "#sk-container-id-1 div.sk-parallel-item {\n",
              "  display: flex;\n",
              "  flex-direction: column;\n",
              "}\n",
              "\n",
              "#sk-container-id-1 div.sk-parallel-item:first-child::after {\n",
              "  align-self: flex-end;\n",
              "  width: 50%;\n",
              "}\n",
              "\n",
              "#sk-container-id-1 div.sk-parallel-item:last-child::after {\n",
              "  align-self: flex-start;\n",
              "  width: 50%;\n",
              "}\n",
              "\n",
              "#sk-container-id-1 div.sk-parallel-item:only-child::after {\n",
              "  width: 0;\n",
              "}\n",
              "\n",
              "/* Serial-specific style estimator block */\n",
              "\n",
              "#sk-container-id-1 div.sk-serial {\n",
              "  display: flex;\n",
              "  flex-direction: column;\n",
              "  align-items: center;\n",
              "  background-color: var(--sklearn-color-background);\n",
              "  padding-right: 1em;\n",
              "  padding-left: 1em;\n",
              "}\n",
              "\n",
              "\n",
              "/* Toggleable style: style used for estimator/Pipeline/ColumnTransformer box that is\n",
              "clickable and can be expanded/collapsed.\n",
              "- Pipeline and ColumnTransformer use this feature and define the default style\n",
              "- Estimators will overwrite some part of the style using the `sk-estimator` class\n",
              "*/\n",
              "\n",
              "/* Pipeline and ColumnTransformer style (default) */\n",
              "\n",
              "#sk-container-id-1 div.sk-toggleable {\n",
              "  /* Default theme specific background. It is overwritten whether we have a\n",
              "  specific estimator or a Pipeline/ColumnTransformer */\n",
              "  background-color: var(--sklearn-color-background);\n",
              "}\n",
              "\n",
              "/* Toggleable label */\n",
              "#sk-container-id-1 label.sk-toggleable__label {\n",
              "  cursor: pointer;\n",
              "  display: block;\n",
              "  width: 100%;\n",
              "  margin-bottom: 0;\n",
              "  padding: 0.5em;\n",
              "  box-sizing: border-box;\n",
              "  text-align: center;\n",
              "}\n",
              "\n",
              "#sk-container-id-1 label.sk-toggleable__label-arrow:before {\n",
              "  /* Arrow on the left of the label */\n",
              "  content: \"▸\";\n",
              "  float: left;\n",
              "  margin-right: 0.25em;\n",
              "  color: var(--sklearn-color-icon);\n",
              "}\n",
              "\n",
              "#sk-container-id-1 label.sk-toggleable__label-arrow:hover:before {\n",
              "  color: var(--sklearn-color-text);\n",
              "}\n",
              "\n",
              "/* Toggleable content - dropdown */\n",
              "\n",
              "#sk-container-id-1 div.sk-toggleable__content {\n",
              "  max-height: 0;\n",
              "  max-width: 0;\n",
              "  overflow: hidden;\n",
              "  text-align: left;\n",
              "  /* unfitted */\n",
              "  background-color: var(--sklearn-color-unfitted-level-0);\n",
              "}\n",
              "\n",
              "#sk-container-id-1 div.sk-toggleable__content.fitted {\n",
              "  /* fitted */\n",
              "  background-color: var(--sklearn-color-fitted-level-0);\n",
              "}\n",
              "\n",
              "#sk-container-id-1 div.sk-toggleable__content pre {\n",
              "  margin: 0.2em;\n",
              "  border-radius: 0.25em;\n",
              "  color: var(--sklearn-color-text);\n",
              "  /* unfitted */\n",
              "  background-color: var(--sklearn-color-unfitted-level-0);\n",
              "}\n",
              "\n",
              "#sk-container-id-1 div.sk-toggleable__content.fitted pre {\n",
              "  /* unfitted */\n",
              "  background-color: var(--sklearn-color-fitted-level-0);\n",
              "}\n",
              "\n",
              "#sk-container-id-1 input.sk-toggleable__control:checked~div.sk-toggleable__content {\n",
              "  /* Expand drop-down */\n",
              "  max-height: 200px;\n",
              "  max-width: 100%;\n",
              "  overflow: auto;\n",
              "}\n",
              "\n",
              "#sk-container-id-1 input.sk-toggleable__control:checked~label.sk-toggleable__label-arrow:before {\n",
              "  content: \"▾\";\n",
              "}\n",
              "\n",
              "/* Pipeline/ColumnTransformer-specific style */\n",
              "\n",
              "#sk-container-id-1 div.sk-label input.sk-toggleable__control:checked~label.sk-toggleable__label {\n",
              "  color: var(--sklearn-color-text);\n",
              "  background-color: var(--sklearn-color-unfitted-level-2);\n",
              "}\n",
              "\n",
              "#sk-container-id-1 div.sk-label.fitted input.sk-toggleable__control:checked~label.sk-toggleable__label {\n",
              "  background-color: var(--sklearn-color-fitted-level-2);\n",
              "}\n",
              "\n",
              "/* Estimator-specific style */\n",
              "\n",
              "/* Colorize estimator box */\n",
              "#sk-container-id-1 div.sk-estimator input.sk-toggleable__control:checked~label.sk-toggleable__label {\n",
              "  /* unfitted */\n",
              "  background-color: var(--sklearn-color-unfitted-level-2);\n",
              "}\n",
              "\n",
              "#sk-container-id-1 div.sk-estimator.fitted input.sk-toggleable__control:checked~label.sk-toggleable__label {\n",
              "  /* fitted */\n",
              "  background-color: var(--sklearn-color-fitted-level-2);\n",
              "}\n",
              "\n",
              "#sk-container-id-1 div.sk-label label.sk-toggleable__label,\n",
              "#sk-container-id-1 div.sk-label label {\n",
              "  /* The background is the default theme color */\n",
              "  color: var(--sklearn-color-text-on-default-background);\n",
              "}\n",
              "\n",
              "/* On hover, darken the color of the background */\n",
              "#sk-container-id-1 div.sk-label:hover label.sk-toggleable__label {\n",
              "  color: var(--sklearn-color-text);\n",
              "  background-color: var(--sklearn-color-unfitted-level-2);\n",
              "}\n",
              "\n",
              "/* Label box, darken color on hover, fitted */\n",
              "#sk-container-id-1 div.sk-label.fitted:hover label.sk-toggleable__label.fitted {\n",
              "  color: var(--sklearn-color-text);\n",
              "  background-color: var(--sklearn-color-fitted-level-2);\n",
              "}\n",
              "\n",
              "/* Estimator label */\n",
              "\n",
              "#sk-container-id-1 div.sk-label label {\n",
              "  font-family: monospace;\n",
              "  font-weight: bold;\n",
              "  display: inline-block;\n",
              "  line-height: 1.2em;\n",
              "}\n",
              "\n",
              "#sk-container-id-1 div.sk-label-container {\n",
              "  text-align: center;\n",
              "}\n",
              "\n",
              "/* Estimator-specific */\n",
              "#sk-container-id-1 div.sk-estimator {\n",
              "  font-family: monospace;\n",
              "  border: 1px dotted var(--sklearn-color-border-box);\n",
              "  border-radius: 0.25em;\n",
              "  box-sizing: border-box;\n",
              "  margin-bottom: 0.5em;\n",
              "  /* unfitted */\n",
              "  background-color: var(--sklearn-color-unfitted-level-0);\n",
              "}\n",
              "\n",
              "#sk-container-id-1 div.sk-estimator.fitted {\n",
              "  /* fitted */\n",
              "  background-color: var(--sklearn-color-fitted-level-0);\n",
              "}\n",
              "\n",
              "/* on hover */\n",
              "#sk-container-id-1 div.sk-estimator:hover {\n",
              "  /* unfitted */\n",
              "  background-color: var(--sklearn-color-unfitted-level-2);\n",
              "}\n",
              "\n",
              "#sk-container-id-1 div.sk-estimator.fitted:hover {\n",
              "  /* fitted */\n",
              "  background-color: var(--sklearn-color-fitted-level-2);\n",
              "}\n",
              "\n",
              "/* Specification for estimator info (e.g. \"i\" and \"?\") */\n",
              "\n",
              "/* Common style for \"i\" and \"?\" */\n",
              "\n",
              ".sk-estimator-doc-link,\n",
              "a:link.sk-estimator-doc-link,\n",
              "a:visited.sk-estimator-doc-link {\n",
              "  float: right;\n",
              "  font-size: smaller;\n",
              "  line-height: 1em;\n",
              "  font-family: monospace;\n",
              "  background-color: var(--sklearn-color-background);\n",
              "  border-radius: 1em;\n",
              "  height: 1em;\n",
              "  width: 1em;\n",
              "  text-decoration: none !important;\n",
              "  margin-left: 1ex;\n",
              "  /* unfitted */\n",
              "  border: var(--sklearn-color-unfitted-level-1) 1pt solid;\n",
              "  color: var(--sklearn-color-unfitted-level-1);\n",
              "}\n",
              "\n",
              ".sk-estimator-doc-link.fitted,\n",
              "a:link.sk-estimator-doc-link.fitted,\n",
              "a:visited.sk-estimator-doc-link.fitted {\n",
              "  /* fitted */\n",
              "  border: var(--sklearn-color-fitted-level-1) 1pt solid;\n",
              "  color: var(--sklearn-color-fitted-level-1);\n",
              "}\n",
              "\n",
              "/* On hover */\n",
              "div.sk-estimator:hover .sk-estimator-doc-link:hover,\n",
              ".sk-estimator-doc-link:hover,\n",
              "div.sk-label-container:hover .sk-estimator-doc-link:hover,\n",
              ".sk-estimator-doc-link:hover {\n",
              "  /* unfitted */\n",
              "  background-color: var(--sklearn-color-unfitted-level-3);\n",
              "  color: var(--sklearn-color-background);\n",
              "  text-decoration: none;\n",
              "}\n",
              "\n",
              "div.sk-estimator.fitted:hover .sk-estimator-doc-link.fitted:hover,\n",
              ".sk-estimator-doc-link.fitted:hover,\n",
              "div.sk-label-container:hover .sk-estimator-doc-link.fitted:hover,\n",
              ".sk-estimator-doc-link.fitted:hover {\n",
              "  /* fitted */\n",
              "  background-color: var(--sklearn-color-fitted-level-3);\n",
              "  color: var(--sklearn-color-background);\n",
              "  text-decoration: none;\n",
              "}\n",
              "\n",
              "/* Span, style for the box shown on hovering the info icon */\n",
              ".sk-estimator-doc-link span {\n",
              "  display: none;\n",
              "  z-index: 9999;\n",
              "  position: relative;\n",
              "  font-weight: normal;\n",
              "  right: .2ex;\n",
              "  padding: .5ex;\n",
              "  margin: .5ex;\n",
              "  width: min-content;\n",
              "  min-width: 20ex;\n",
              "  max-width: 50ex;\n",
              "  color: var(--sklearn-color-text);\n",
              "  box-shadow: 2pt 2pt 4pt #999;\n",
              "  /* unfitted */\n",
              "  background: var(--sklearn-color-unfitted-level-0);\n",
              "  border: .5pt solid var(--sklearn-color-unfitted-level-3);\n",
              "}\n",
              "\n",
              ".sk-estimator-doc-link.fitted span {\n",
              "  /* fitted */\n",
              "  background: var(--sklearn-color-fitted-level-0);\n",
              "  border: var(--sklearn-color-fitted-level-3);\n",
              "}\n",
              "\n",
              ".sk-estimator-doc-link:hover span {\n",
              "  display: block;\n",
              "}\n",
              "\n",
              "/* \"?\"-specific style due to the `<a>` HTML tag */\n",
              "\n",
              "#sk-container-id-1 a.estimator_doc_link {\n",
              "  float: right;\n",
              "  font-size: 1rem;\n",
              "  line-height: 1em;\n",
              "  font-family: monospace;\n",
              "  background-color: var(--sklearn-color-background);\n",
              "  border-radius: 1rem;\n",
              "  height: 1rem;\n",
              "  width: 1rem;\n",
              "  text-decoration: none;\n",
              "  /* unfitted */\n",
              "  color: var(--sklearn-color-unfitted-level-1);\n",
              "  border: var(--sklearn-color-unfitted-level-1) 1pt solid;\n",
              "}\n",
              "\n",
              "#sk-container-id-1 a.estimator_doc_link.fitted {\n",
              "  /* fitted */\n",
              "  border: var(--sklearn-color-fitted-level-1) 1pt solid;\n",
              "  color: var(--sklearn-color-fitted-level-1);\n",
              "}\n",
              "\n",
              "/* On hover */\n",
              "#sk-container-id-1 a.estimator_doc_link:hover {\n",
              "  /* unfitted */\n",
              "  background-color: var(--sklearn-color-unfitted-level-3);\n",
              "  color: var(--sklearn-color-background);\n",
              "  text-decoration: none;\n",
              "}\n",
              "\n",
              "#sk-container-id-1 a.estimator_doc_link.fitted:hover {\n",
              "  /* fitted */\n",
              "  background-color: var(--sklearn-color-fitted-level-3);\n",
              "}\n",
              "</style><div id=\"sk-container-id-1\" class=\"sk-top-container\"><div class=\"sk-text-repr-fallback\"><pre>XGBRegressor(base_score=None, booster=None, callbacks=None,\n",
              "             colsample_bylevel=None, colsample_bynode=None,\n",
              "             colsample_bytree=None, device=None, early_stopping_rounds=None,\n",
              "             enable_categorical=False, eval_metric=None, feature_types=None,\n",
              "             feature_weights=None, gamma=None, grow_policy=None,\n",
              "             importance_type=None, interaction_constraints=None,\n",
              "             learning_rate=0.1, max_bin=None, max_cat_threshold=None,\n",
              "             max_cat_to_onehot=None, max_delta_step=None, max_depth=6,\n",
              "             max_leaves=None, min_child_weight=None, missing=nan,\n",
              "             monotone_constraints=None, multi_strategy=None, n_estimators=100,\n",
              "             n_jobs=-1, num_parallel_tree=None, ...)</pre><b>In a Jupyter environment, please rerun this cell to show the HTML representation or trust the notebook. <br />On GitHub, the HTML representation is unable to render, please try loading this page with nbviewer.org.</b></div><div class=\"sk-container\" hidden><div class=\"sk-item\"><div class=\"sk-estimator fitted sk-toggleable\"><input class=\"sk-toggleable__control sk-hidden--visually\" id=\"sk-estimator-id-1\" type=\"checkbox\" checked><label for=\"sk-estimator-id-1\" class=\"sk-toggleable__label fitted sk-toggleable__label-arrow fitted\">&nbsp;&nbsp;XGBRegressor<a class=\"sk-estimator-doc-link fitted\" rel=\"noreferrer\" target=\"_blank\" href=\"https://xgboost.readthedocs.io/en/release_3.0.0/python/python_api.html#xgboost.XGBRegressor\">?<span>Documentation for XGBRegressor</span></a><span class=\"sk-estimator-doc-link fitted\">i<span>Fitted</span></span></label><div class=\"sk-toggleable__content fitted\"><pre>XGBRegressor(base_score=None, booster=None, callbacks=None,\n",
              "             colsample_bylevel=None, colsample_bynode=None,\n",
              "             colsample_bytree=None, device=None, early_stopping_rounds=None,\n",
              "             enable_categorical=False, eval_metric=None, feature_types=None,\n",
              "             feature_weights=None, gamma=None, grow_policy=None,\n",
              "             importance_type=None, interaction_constraints=None,\n",
              "             learning_rate=0.1, max_bin=None, max_cat_threshold=None,\n",
              "             max_cat_to_onehot=None, max_delta_step=None, max_depth=6,\n",
              "             max_leaves=None, min_child_weight=None, missing=nan,\n",
              "             monotone_constraints=None, multi_strategy=None, n_estimators=100,\n",
              "             n_jobs=-1, num_parallel_tree=None, ...)</pre></div> </div></div></div></div>"
            ],
            "text/plain": [
              "XGBRegressor(base_score=None, booster=None, callbacks=None,\n",
              "             colsample_bylevel=None, colsample_bynode=None,\n",
              "             colsample_bytree=None, device=None, early_stopping_rounds=None,\n",
              "             enable_categorical=False, eval_metric=None, feature_types=None,\n",
              "             feature_weights=None, gamma=None, grow_policy=None,\n",
              "             importance_type=None, interaction_constraints=None,\n",
              "             learning_rate=0.1, max_bin=None, max_cat_threshold=None,\n",
              "             max_cat_to_onehot=None, max_delta_step=None, max_depth=6,\n",
              "             max_leaves=None, min_child_weight=None, missing=nan,\n",
              "             monotone_constraints=None, multi_strategy=None, n_estimators=100,\n",
              "             n_jobs=-1, num_parallel_tree=None, ...)"
            ]
          },
          "execution_count": 166,
          "metadata": {},
          "output_type": "execute_result"
        }
      ],
      "source": [
        "from xgboost import XGBRegressor\n",
        "\n",
        "xgb_model = XGBRegressor(\n",
        "    n_estimators=100,\n",
        "    learning_rate=0.1,\n",
        "    max_depth=6,\n",
        "    random_state=42,\n",
        "    n_jobs=-1\n",
        ")\n",
        "\n",
        "xgb_model.fit(X_train, y_train)\n"
      ]
    },
    {
      "cell_type": "code",
      "execution_count": null,
      "id": "a258cb5e-45a5-4397-8295-d24d28822edf",
      "metadata": {
        "id": "a258cb5e-45a5-4397-8295-d24d28822edf",
        "outputId": "2e6b50a6-438d-4c77-cc94-cb36f81b355b"
      },
      "outputs": [
        {
          "name": "stdout",
          "output_type": "stream",
          "text": [
            "Validation RMSE: 23963.23\n"
          ]
        },
        {
          "name": "stderr",
          "output_type": "stream",
          "text": [
            "C:\\Users\\Nkechi Pc\\anaconda3\\Lib\\site-packages\\sklearn\\metrics\\_regression.py:483: FutureWarning: 'squared' is deprecated in version 1.4 and will be removed in 1.6. To calculate the root mean squared error, use the function'root_mean_squared_error'.\n",
            "  warnings.warn(\n"
          ]
        }
      ],
      "source": [
        "y_pred = xgb_model.predict(X_test)\n",
        "rmse = mean_squared_error(y_test, y_pred, squared=False)\n",
        "\n",
        "print(f\"Validation RMSE: {rmse:.2f}\")\n"
      ]
    },
    {
      "cell_type": "code",
      "execution_count": null,
      "id": "fa04dc5d-d0cb-41ef-a3fe-3ac3eb0054cd",
      "metadata": {
        "id": "fa04dc5d-d0cb-41ef-a3fe-3ac3eb0054cd",
        "outputId": "5667236b-c1ec-4e1c-be10-b0711dd9b94f"
      },
      "outputs": [
        {
          "name": "stdout",
          "output_type": "stream",
          "text": [
            "125690 125690\n"
          ]
        }
      ],
      "source": [
        "# Checking to confirm that the length of both test and sample submission is same\n",
        "\n",
        "print(len(df_t_clean), len(df_s))\n"
      ]
    },
    {
      "cell_type": "code",
      "execution_count": null,
      "id": "f5bcf87a-226a-4cd0-ac29-ecbb5b7900ea",
      "metadata": {
        "id": "f5bcf87a-226a-4cd0-ac29-ecbb5b7900ea",
        "outputId": "4e9e09b6-8c1e-4a03-938a-52a0c091d87a"
      },
      "outputs": [
        {
          "name": "stdout",
          "output_type": "stream",
          "text": [
            "Missing columns in df_t_clean: {'price'}\n",
            "Extra columns in df_t_clean: set()\n"
          ]
        }
      ],
      "source": [
        "# Checking if test dataset has same columns as X_train due to the OneHotEncoding done\n",
        "\n",
        "missing_cols = set(X_train.columns) - set(df_t_clean.columns)\n",
        "extra_cols = set(df_t_clean.columns) - set(X_train.columns)\n",
        "\n",
        "print(\"Missing columns in df_t_clean:\", missing_cols)\n",
        "print(\"Extra columns in df_t_clean:\", extra_cols)\n"
      ]
    },
    {
      "cell_type": "code",
      "execution_count": null,
      "id": "d5a1bae7-bf5e-4aa1-80f8-7510c97b841f",
      "metadata": {
        "id": "d5a1bae7-bf5e-4aa1-80f8-7510c97b841f"
      },
      "outputs": [],
      "source": [
        "# Add missing columns with default value 0 just to align the columns\n",
        "for col in missing_cols:\n",
        "    df_t_clean[col] = 0\n",
        "\n",
        "# Drop extra columns\n",
        "df_t_clean = df_t_clean[X_train.columns]\n"
      ]
    },
    {
      "cell_type": "code",
      "execution_count": null,
      "id": "1ea253fd-4bf4-4fde-8c12-d789a4b7bae9",
      "metadata": {
        "id": "1ea253fd-4bf4-4fde-8c12-d789a4b7bae9"
      },
      "outputs": [],
      "source": [
        "# Assigning my predicted value from the test dataset to y_pred\n",
        "\n",
        "y_pred = xgb_model.predict(df_t_clean)\n"
      ]
    },
    {
      "cell_type": "code",
      "execution_count": null,
      "id": "428a97f5-0674-442b-b375-aa8a693f339b",
      "metadata": {
        "id": "428a97f5-0674-442b-b375-aa8a693f339b"
      },
      "outputs": [],
      "source": [
        "# Assigning y_pred value to the price column in the submission dataset\n",
        "df_s['price'] = y_pred\n"
      ]
    },
    {
      "cell_type": "code",
      "execution_count": null,
      "id": "08db1b83-c4b0-4caa-b26d-09605f904f28",
      "metadata": {
        "id": "08db1b83-c4b0-4caa-b26d-09605f904f28",
        "outputId": "1d674874-4b19-481a-d268-59da84b571f2"
      },
      "outputs": [
        {
          "data": {
            "text/html": [
              "<div>\n",
              "<style scoped>\n",
              "    .dataframe tbody tr th:only-of-type {\n",
              "        vertical-align: middle;\n",
              "    }\n",
              "\n",
              "    .dataframe tbody tr th {\n",
              "        vertical-align: top;\n",
              "    }\n",
              "\n",
              "    .dataframe thead th {\n",
              "        text-align: right;\n",
              "    }\n",
              "</style>\n",
              "<table border=\"1\" class=\"dataframe\">\n",
              "  <thead>\n",
              "    <tr style=\"text-align: right;\">\n",
              "      <th></th>\n",
              "      <th>id</th>\n",
              "      <th>price</th>\n",
              "    </tr>\n",
              "  </thead>\n",
              "  <tbody>\n",
              "    <tr>\n",
              "      <th>0</th>\n",
              "      <td>188533</td>\n",
              "      <td>3620.414307</td>\n",
              "    </tr>\n",
              "    <tr>\n",
              "      <th>1</th>\n",
              "      <td>188534</td>\n",
              "      <td>3620.414307</td>\n",
              "    </tr>\n",
              "    <tr>\n",
              "      <th>2</th>\n",
              "      <td>188535</td>\n",
              "      <td>3620.414307</td>\n",
              "    </tr>\n",
              "    <tr>\n",
              "      <th>3</th>\n",
              "      <td>188536</td>\n",
              "      <td>3620.414307</td>\n",
              "    </tr>\n",
              "    <tr>\n",
              "      <th>4</th>\n",
              "      <td>188537</td>\n",
              "      <td>3620.414307</td>\n",
              "    </tr>\n",
              "    <tr>\n",
              "      <th>...</th>\n",
              "      <td>...</td>\n",
              "      <td>...</td>\n",
              "    </tr>\n",
              "    <tr>\n",
              "      <th>125685</th>\n",
              "      <td>314218</td>\n",
              "      <td>3620.414307</td>\n",
              "    </tr>\n",
              "    <tr>\n",
              "      <th>125686</th>\n",
              "      <td>314219</td>\n",
              "      <td>3620.414307</td>\n",
              "    </tr>\n",
              "    <tr>\n",
              "      <th>125687</th>\n",
              "      <td>314220</td>\n",
              "      <td>3620.414307</td>\n",
              "    </tr>\n",
              "    <tr>\n",
              "      <th>125688</th>\n",
              "      <td>314221</td>\n",
              "      <td>3620.414307</td>\n",
              "    </tr>\n",
              "    <tr>\n",
              "      <th>125689</th>\n",
              "      <td>314222</td>\n",
              "      <td>3620.414307</td>\n",
              "    </tr>\n",
              "  </tbody>\n",
              "</table>\n",
              "<p>125690 rows × 2 columns</p>\n",
              "</div>"
            ],
            "text/plain": [
              "            id        price\n",
              "0       188533  3620.414307\n",
              "1       188534  3620.414307\n",
              "2       188535  3620.414307\n",
              "3       188536  3620.414307\n",
              "4       188537  3620.414307\n",
              "...        ...          ...\n",
              "125685  314218  3620.414307\n",
              "125686  314219  3620.414307\n",
              "125687  314220  3620.414307\n",
              "125688  314221  3620.414307\n",
              "125689  314222  3620.414307\n",
              "\n",
              "[125690 rows x 2 columns]"
            ]
          },
          "execution_count": 221,
          "metadata": {},
          "output_type": "execute_result"
        }
      ],
      "source": [
        "# Saving and viewing the new sample submission file\n",
        "\n",
        "df_s.to_csv('updated_submission.csv', index=False)\n",
        "df_s"
      ]
    },
    {
      "cell_type": "markdown",
      "id": "a948be7c-066c-47ac-bd75-435a46ab9e3a",
      "metadata": {
        "id": "a948be7c-066c-47ac-bd75-435a46ab9e3a"
      },
      "source": [
        "### Viewing the top 10 important features of my model"
      ]
    },
    {
      "cell_type": "code",
      "execution_count": null,
      "id": "9e77c51f-7f6d-429e-8435-21e2dc140c67",
      "metadata": {
        "id": "9e77c51f-7f6d-429e-8435-21e2dc140c67",
        "outputId": "063c5629-95b3-40b6-e6bd-09814d2b1fe2"
      },
      "outputs": [
        {
          "data": {
            "image/png": "[encoded data removed]",
            "text/plain": [
              "<Figure size 800x600 with 1 Axes>"
            ]
          },
          "metadata": {},
          "output_type": "display_data"
        }
      ],
      "source": [
        "# Get feature importances as a Series\n",
        "importance_series = pd.Series(xgb_model.feature_importances_, index=X.columns)\n",
        "\n",
        "# Sort and select top 10\n",
        "top_10 = importance_series.sort_values(ascending=False).head(10)\n",
        "\n",
        "# Plot\n",
        "plt.figure(figsize=(8, 6))\n",
        "top_10.plot(kind='barh')\n",
        "plt.title('Top 10 Important Features from XGBoost')\n",
        "plt.xlabel('Importance Score')\n",
        "plt.gca().invert_yaxis()  # Highest at the top\n",
        "plt.tight_layout()\n",
        "plt.show()\n"
      ]
    },
    {
      "cell_type": "markdown",
      "id": "5e98e2ad-924c-4d9e-9288-609d4b723262",
      "metadata": {
        "id": "5e98e2ad-924c-4d9e-9288-609d4b723262"
      },
      "source": [
        "### THANK YOU"
      ]
    },
    {
      "cell_type": "code",
      "execution_count": null,
      "id": "62aa66d1-6be1-428d-9abd-9a6d7fa3533a",
      "metadata": {
        "id": "62aa66d1-6be1-428d-9abd-9a6d7fa3533a"
      },
      "outputs": [],
      "source": []
    }
  ],
  "metadata": {
    "kernelspec": {
      "display_name": "Python 3 (ipykernel)",
      "language": "python",
      "name": "python3"
    },
    "language_info": {
      "codemirror_mode": {
        "name": "ipython",
        "version": 3
      },
      "file_extension": ".py",
      "mimetype": "text/x-python",
      "name": "python",
      "nbconvert_exporter": "python",
      "pygments_lexer": "ipython3",
      "version": "3.12.4"
    },
    "colab": {
      "provenance": [],
      "include_colab_link": true
    }
  },
  "nbformat": 4,
  "nbformat_minor": 5
}